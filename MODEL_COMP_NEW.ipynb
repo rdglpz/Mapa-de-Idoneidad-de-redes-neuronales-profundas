{
 "cells": [
  {
   "cell_type": "markdown",
   "metadata": {},
   "source": [
    "### Multi Layer Perceptron"
   ]
  },
  {
   "cell_type": "code",
   "execution_count": 1,
   "metadata": {},
   "outputs": [],
   "source": [
    "#%conda install -c conda-forge geoplot\n",
    "#%conda install -c conda-forge folium"
   ]
  },
  {
   "cell_type": "markdown",
   "metadata": {},
   "source": [
    "Bibliotecas a utilizar:"
   ]
  },
  {
   "cell_type": "code",
   "execution_count": 2,
   "metadata": {},
   "outputs": [],
   "source": [
    "from sklearn.neural_network import MLPClassifier\n",
    "import numpy as np\n",
    "import pandas as pd\n",
    "import matplotlib.pyplot as plt\n",
    "import seaborn as sns\n",
    "from sklearn import metrics"
   ]
  },
  {
   "cell_type": "code",
   "execution_count": 3,
   "metadata": {},
   "outputs": [],
   "source": [
    "import geoplot\n",
    "import folium\n",
    "import geopandas as gpd\n",
    "from shapely.geometry import Point, Polygon"
   ]
  },
  {
   "cell_type": "markdown",
   "metadata": {},
   "source": [
    "Especificación de encabezados"
   ]
  },
  {
   "cell_type": "code",
   "execution_count": 4,
   "metadata": {},
   "outputs": [],
   "source": [
    "header = [\"Lat\",\"Lon\",\"Urbano\", \"Cuerpos_agua\", \"Cultivo_riego\",\"Cultivo Temporal\",\"Past&Mat\",\"Suelo_desnudo\",\n",
    "         \"Vegetacion\",\"Pendiente\",\"Dist_ANPS\",\"Dist_agua\",\"Dist_veget\",\"Dist_urb\",\"Dist_centro\",\"Dist_carreteras\",\"Costo\"\n",
    "          ,\"No_Urb\",\"Difer\"]"
   ]
  },
  {
   "cell_type": "code",
   "execution_count": null,
   "metadata": {},
   "outputs": [],
   "source": []
  },
  {
   "cell_type": "markdown",
   "metadata": {},
   "source": [
    "Lectura de datos"
   ]
  },
  {
   "cell_type": "code",
   "execution_count": 7,
   "metadata": {},
   "outputs": [],
   "source": [
    "#esto que incluye? \n",
    "data = pd.read_csv(\"2000.csv\",names=header)"
   ]
  },
  {
   "cell_type": "code",
   "execution_count": 8,
   "metadata": {},
   "outputs": [
    {
     "data": {
      "text/html": [
       "<div>\n",
       "<style scoped>\n",
       "    .dataframe tbody tr th:only-of-type {\n",
       "        vertical-align: middle;\n",
       "    }\n",
       "\n",
       "    .dataframe tbody tr th {\n",
       "        vertical-align: top;\n",
       "    }\n",
       "\n",
       "    .dataframe thead th {\n",
       "        text-align: right;\n",
       "    }\n",
       "</style>\n",
       "<table border=\"1\" class=\"dataframe\">\n",
       "  <thead>\n",
       "    <tr style=\"text-align: right;\">\n",
       "      <th></th>\n",
       "      <th>Lat</th>\n",
       "      <th>Lon</th>\n",
       "      <th>Urbano</th>\n",
       "      <th>Cuerpos_agua</th>\n",
       "      <th>Cultivo_riego</th>\n",
       "      <th>Cultivo Temporal</th>\n",
       "      <th>Past&amp;Mat</th>\n",
       "      <th>Suelo_desnudo</th>\n",
       "      <th>Vegetacion</th>\n",
       "      <th>Pendiente</th>\n",
       "      <th>Dist_ANPS</th>\n",
       "      <th>Dist_agua</th>\n",
       "      <th>Dist_veget</th>\n",
       "      <th>Dist_urb</th>\n",
       "      <th>Dist_centro</th>\n",
       "      <th>Dist_carreteras</th>\n",
       "      <th>Costo</th>\n",
       "      <th>No_Urb</th>\n",
       "      <th>Difer</th>\n",
       "    </tr>\n",
       "  </thead>\n",
       "  <tbody>\n",
       "    <tr>\n",
       "      <th>0</th>\n",
       "      <td>260628.478257</td>\n",
       "      <td>2.197830e+06</td>\n",
       "      <td>0</td>\n",
       "      <td>1</td>\n",
       "      <td>0</td>\n",
       "      <td>0</td>\n",
       "      <td>0</td>\n",
       "      <td>0</td>\n",
       "      <td>0</td>\n",
       "      <td>6.054499</td>\n",
       "      <td>19979.177361</td>\n",
       "      <td>0.000000</td>\n",
       "      <td>899.990695</td>\n",
       "      <td>3275.311829</td>\n",
       "      <td>20135.641180</td>\n",
       "      <td>3494.114484</td>\n",
       "      <td>97.324288</td>\n",
       "      <td>1</td>\n",
       "      <td>0</td>\n",
       "    </tr>\n",
       "    <tr>\n",
       "      <th>1</th>\n",
       "      <td>260658.475127</td>\n",
       "      <td>2.197830e+06</td>\n",
       "      <td>0</td>\n",
       "      <td>1</td>\n",
       "      <td>0</td>\n",
       "      <td>0</td>\n",
       "      <td>0</td>\n",
       "      <td>0</td>\n",
       "      <td>0</td>\n",
       "      <td>0.000000</td>\n",
       "      <td>19959.328482</td>\n",
       "      <td>0.000000</td>\n",
       "      <td>924.161269</td>\n",
       "      <td>3288.061757</td>\n",
       "      <td>20121.447884</td>\n",
       "      <td>3504.785363</td>\n",
       "      <td>97.473378</td>\n",
       "      <td>1</td>\n",
       "      <td>0</td>\n",
       "    </tr>\n",
       "    <tr>\n",
       "      <th>2</th>\n",
       "      <td>260688.471998</td>\n",
       "      <td>2.197830e+06</td>\n",
       "      <td>0</td>\n",
       "      <td>1</td>\n",
       "      <td>0</td>\n",
       "      <td>0</td>\n",
       "      <td>0</td>\n",
       "      <td>0</td>\n",
       "      <td>0</td>\n",
       "      <td>0.000000</td>\n",
       "      <td>19939.504971</td>\n",
       "      <td>0.000000</td>\n",
       "      <td>948.664575</td>\n",
       "      <td>3301.035032</td>\n",
       "      <td>20107.289320</td>\n",
       "      <td>3515.679803</td>\n",
       "      <td>97.622467</td>\n",
       "      <td>1</td>\n",
       "      <td>0</td>\n",
       "    </tr>\n",
       "    <tr>\n",
       "      <th>3</th>\n",
       "      <td>260598.481386</td>\n",
       "      <td>2.197800e+06</td>\n",
       "      <td>0</td>\n",
       "      <td>1</td>\n",
       "      <td>0</td>\n",
       "      <td>0</td>\n",
       "      <td>0</td>\n",
       "      <td>0</td>\n",
       "      <td>0</td>\n",
       "      <td>10.219378</td>\n",
       "      <td>19976.598333</td>\n",
       "      <td>0.000000</td>\n",
       "      <td>858.010608</td>\n",
       "      <td>3235.495185</td>\n",
       "      <td>20123.468711</td>\n",
       "      <td>3455.515883</td>\n",
       "      <td>96.815105</td>\n",
       "      <td>1</td>\n",
       "      <td>0</td>\n",
       "    </tr>\n",
       "    <tr>\n",
       "      <th>4</th>\n",
       "      <td>260628.478257</td>\n",
       "      <td>2.197800e+06</td>\n",
       "      <td>0</td>\n",
       "      <td>1</td>\n",
       "      <td>0</td>\n",
       "      <td>0</td>\n",
       "      <td>0</td>\n",
       "      <td>0</td>\n",
       "      <td>0</td>\n",
       "      <td>0.000000</td>\n",
       "      <td>19956.701801</td>\n",
       "      <td>0.000000</td>\n",
       "      <td>882.311384</td>\n",
       "      <td>3248.124382</td>\n",
       "      <td>20109.222078</td>\n",
       "      <td>3466.045990</td>\n",
       "      <td>96.964194</td>\n",
       "      <td>1</td>\n",
       "      <td>0</td>\n",
       "    </tr>\n",
       "    <tr>\n",
       "      <th>...</th>\n",
       "      <td>...</td>\n",
       "      <td>...</td>\n",
       "      <td>...</td>\n",
       "      <td>...</td>\n",
       "      <td>...</td>\n",
       "      <td>...</td>\n",
       "      <td>...</td>\n",
       "      <td>...</td>\n",
       "      <td>...</td>\n",
       "      <td>...</td>\n",
       "      <td>...</td>\n",
       "      <td>...</td>\n",
       "      <td>...</td>\n",
       "      <td>...</td>\n",
       "      <td>...</td>\n",
       "      <td>...</td>\n",
       "      <td>...</td>\n",
       "      <td>...</td>\n",
       "      <td>...</td>\n",
       "    </tr>\n",
       "    <tr>\n",
       "      <th>1325631</th>\n",
       "      <td>271007.395459</td>\n",
       "      <td>2.151833e+06</td>\n",
       "      <td>0</td>\n",
       "      <td>0</td>\n",
       "      <td>0</td>\n",
       "      <td>0</td>\n",
       "      <td>1</td>\n",
       "      <td>0</td>\n",
       "      <td>0</td>\n",
       "      <td>12.604383</td>\n",
       "      <td>7326.598778</td>\n",
       "      <td>7502.007921</td>\n",
       "      <td>2430.380807</td>\n",
       "      <td>15874.987952</td>\n",
       "      <td>28276.905407</td>\n",
       "      <td>5847.119329</td>\n",
       "      <td>111.570693</td>\n",
       "      <td>0</td>\n",
       "      <td>0</td>\n",
       "    </tr>\n",
       "    <tr>\n",
       "      <th>1325632</th>\n",
       "      <td>270947.401717</td>\n",
       "      <td>2.151803e+06</td>\n",
       "      <td>0</td>\n",
       "      <td>0</td>\n",
       "      <td>0</td>\n",
       "      <td>0</td>\n",
       "      <td>1</td>\n",
       "      <td>0</td>\n",
       "      <td>0</td>\n",
       "      <td>8.293805</td>\n",
       "      <td>7362.572123</td>\n",
       "      <td>7491.638443</td>\n",
       "      <td>2461.116840</td>\n",
       "      <td>15861.646267</td>\n",
       "      <td>28305.180293</td>\n",
       "      <td>5855.054017</td>\n",
       "      <td>111.632609</td>\n",
       "      <td>0</td>\n",
       "      <td>0</td>\n",
       "    </tr>\n",
       "    <tr>\n",
       "      <th>1325633</th>\n",
       "      <td>270977.398588</td>\n",
       "      <td>2.151803e+06</td>\n",
       "      <td>0</td>\n",
       "      <td>0</td>\n",
       "      <td>0</td>\n",
       "      <td>0</td>\n",
       "      <td>1</td>\n",
       "      <td>0</td>\n",
       "      <td>0</td>\n",
       "      <td>15.909876</td>\n",
       "      <td>7359.454996</td>\n",
       "      <td>7508.974118</td>\n",
       "      <td>2460.568362</td>\n",
       "      <td>15880.100758</td>\n",
       "      <td>28306.022707</td>\n",
       "      <td>5865.111503</td>\n",
       "      <td>111.781698</td>\n",
       "      <td>0</td>\n",
       "      <td>0</td>\n",
       "    </tr>\n",
       "    <tr>\n",
       "      <th>1325634</th>\n",
       "      <td>271007.395459</td>\n",
       "      <td>2.151803e+06</td>\n",
       "      <td>0</td>\n",
       "      <td>0</td>\n",
       "      <td>0</td>\n",
       "      <td>0</td>\n",
       "      <td>1</td>\n",
       "      <td>0</td>\n",
       "      <td>0</td>\n",
       "      <td>20.260141</td>\n",
       "      <td>7356.458865</td>\n",
       "      <td>7526.389418</td>\n",
       "      <td>2460.385508</td>\n",
       "      <td>15898.590424</td>\n",
       "      <td>28306.896883</td>\n",
       "      <td>5875.304926</td>\n",
       "      <td>111.930787</td>\n",
       "      <td>0</td>\n",
       "      <td>0</td>\n",
       "    </tr>\n",
       "    <tr>\n",
       "      <th>1325635</th>\n",
       "      <td>270977.398588</td>\n",
       "      <td>2.151773e+06</td>\n",
       "      <td>0</td>\n",
       "      <td>0</td>\n",
       "      <td>0</td>\n",
       "      <td>0</td>\n",
       "      <td>1</td>\n",
       "      <td>0</td>\n",
       "      <td>0</td>\n",
       "      <td>15.909876</td>\n",
       "      <td>7389.304148</td>\n",
       "      <td>7533.452574</td>\n",
       "      <td>2490.570860</td>\n",
       "      <td>15903.752250</td>\n",
       "      <td>28336.015137</td>\n",
       "      <td>5893.363814</td>\n",
       "      <td>112.141792</td>\n",
       "      <td>0</td>\n",
       "      <td>0</td>\n",
       "    </tr>\n",
       "  </tbody>\n",
       "</table>\n",
       "<p>1325636 rows × 19 columns</p>\n",
       "</div>"
      ],
      "text/plain": [
       "                   Lat           Lon  Urbano  Cuerpos_agua  Cultivo_riego  \\\n",
       "0        260628.478257  2.197830e+06       0             1              0   \n",
       "1        260658.475127  2.197830e+06       0             1              0   \n",
       "2        260688.471998  2.197830e+06       0             1              0   \n",
       "3        260598.481386  2.197800e+06       0             1              0   \n",
       "4        260628.478257  2.197800e+06       0             1              0   \n",
       "...                ...           ...     ...           ...            ...   \n",
       "1325631  271007.395459  2.151833e+06       0             0              0   \n",
       "1325632  270947.401717  2.151803e+06       0             0              0   \n",
       "1325633  270977.398588  2.151803e+06       0             0              0   \n",
       "1325634  271007.395459  2.151803e+06       0             0              0   \n",
       "1325635  270977.398588  2.151773e+06       0             0              0   \n",
       "\n",
       "         Cultivo Temporal  Past&Mat  Suelo_desnudo  Vegetacion  Pendiente  \\\n",
       "0                       0         0              0           0   6.054499   \n",
       "1                       0         0              0           0   0.000000   \n",
       "2                       0         0              0           0   0.000000   \n",
       "3                       0         0              0           0  10.219378   \n",
       "4                       0         0              0           0   0.000000   \n",
       "...                   ...       ...            ...         ...        ...   \n",
       "1325631                 0         1              0           0  12.604383   \n",
       "1325632                 0         1              0           0   8.293805   \n",
       "1325633                 0         1              0           0  15.909876   \n",
       "1325634                 0         1              0           0  20.260141   \n",
       "1325635                 0         1              0           0  15.909876   \n",
       "\n",
       "            Dist_ANPS    Dist_agua   Dist_veget      Dist_urb   Dist_centro  \\\n",
       "0        19979.177361     0.000000   899.990695   3275.311829  20135.641180   \n",
       "1        19959.328482     0.000000   924.161269   3288.061757  20121.447884   \n",
       "2        19939.504971     0.000000   948.664575   3301.035032  20107.289320   \n",
       "3        19976.598333     0.000000   858.010608   3235.495185  20123.468711   \n",
       "4        19956.701801     0.000000   882.311384   3248.124382  20109.222078   \n",
       "...               ...          ...          ...           ...           ...   \n",
       "1325631   7326.598778  7502.007921  2430.380807  15874.987952  28276.905407   \n",
       "1325632   7362.572123  7491.638443  2461.116840  15861.646267  28305.180293   \n",
       "1325633   7359.454996  7508.974118  2460.568362  15880.100758  28306.022707   \n",
       "1325634   7356.458865  7526.389418  2460.385508  15898.590424  28306.896883   \n",
       "1325635   7389.304148  7533.452574  2490.570860  15903.752250  28336.015137   \n",
       "\n",
       "         Dist_carreteras       Costo  No_Urb  Difer  \n",
       "0            3494.114484   97.324288       1      0  \n",
       "1            3504.785363   97.473378       1      0  \n",
       "2            3515.679803   97.622467       1      0  \n",
       "3            3455.515883   96.815105       1      0  \n",
       "4            3466.045990   96.964194       1      0  \n",
       "...                  ...         ...     ...    ...  \n",
       "1325631      5847.119329  111.570693       0      0  \n",
       "1325632      5855.054017  111.632609       0      0  \n",
       "1325633      5865.111503  111.781698       0      0  \n",
       "1325634      5875.304926  111.930787       0      0  \n",
       "1325635      5893.363814  112.141792       0      0  \n",
       "\n",
       "[1325636 rows x 19 columns]"
      ]
     },
     "execution_count": 8,
     "metadata": {},
     "output_type": "execute_result"
    }
   ],
   "source": [
    "data"
   ]
  },
  {
   "cell_type": "markdown",
   "metadata": {},
   "source": [
    "Seleccion de dados no urbanos que son en los cuales se va a realizar la predicción."
   ]
  },
  {
   "cell_type": "code",
   "execution_count": 9,
   "metadata": {},
   "outputs": [],
   "source": [
    "data_urb=data[data[\"No_Urb\"]==0]"
   ]
  },
  {
   "cell_type": "code",
   "execution_count": null,
   "metadata": {},
   "outputs": [],
   "source": []
  },
  {
   "cell_type": "markdown",
   "metadata": {},
   "source": [
    "Mezcla del dataset"
   ]
  },
  {
   "cell_type": "code",
   "execution_count": 10,
   "metadata": {},
   "outputs": [],
   "source": [
    "df = data_urb.sample(frac = 1)"
   ]
  },
  {
   "cell_type": "code",
   "execution_count": 11,
   "metadata": {},
   "outputs": [
    {
     "data": {
      "text/html": [
       "<div>\n",
       "<style scoped>\n",
       "    .dataframe tbody tr th:only-of-type {\n",
       "        vertical-align: middle;\n",
       "    }\n",
       "\n",
       "    .dataframe tbody tr th {\n",
       "        vertical-align: top;\n",
       "    }\n",
       "\n",
       "    .dataframe thead th {\n",
       "        text-align: right;\n",
       "    }\n",
       "</style>\n",
       "<table border=\"1\" class=\"dataframe\">\n",
       "  <thead>\n",
       "    <tr style=\"text-align: right;\">\n",
       "      <th></th>\n",
       "      <th>Lat</th>\n",
       "      <th>Lon</th>\n",
       "      <th>Urbano</th>\n",
       "      <th>Cuerpos_agua</th>\n",
       "      <th>Cultivo_riego</th>\n",
       "      <th>Cultivo Temporal</th>\n",
       "      <th>Past&amp;Mat</th>\n",
       "      <th>Suelo_desnudo</th>\n",
       "      <th>Vegetacion</th>\n",
       "      <th>Pendiente</th>\n",
       "      <th>Dist_ANPS</th>\n",
       "      <th>Dist_agua</th>\n",
       "      <th>Dist_veget</th>\n",
       "      <th>Dist_urb</th>\n",
       "      <th>Dist_centro</th>\n",
       "      <th>Dist_carreteras</th>\n",
       "      <th>Costo</th>\n",
       "      <th>No_Urb</th>\n",
       "      <th>Difer</th>\n",
       "    </tr>\n",
       "  </thead>\n",
       "  <tbody>\n",
       "    <tr>\n",
       "      <th>835002</th>\n",
       "      <td>260208.522070</td>\n",
       "      <td>2.172446e+06</td>\n",
       "      <td>0</td>\n",
       "      <td>0</td>\n",
       "      <td>0</td>\n",
       "      <td>0</td>\n",
       "      <td>1</td>\n",
       "      <td>0</td>\n",
       "      <td>0</td>\n",
       "      <td>13.900669</td>\n",
       "      <td>684.145160</td>\n",
       "      <td>1966.784571</td>\n",
       "      <td>1816.112166</td>\n",
       "      <td>2005.758472</td>\n",
       "      <td>12558.731947</td>\n",
       "      <td>630.098728</td>\n",
       "      <td>22.356823</td>\n",
       "      <td>0</td>\n",
       "      <td>1</td>\n",
       "    </tr>\n",
       "    <tr>\n",
       "      <th>878221</th>\n",
       "      <td>268457.661464</td>\n",
       "      <td>2.171306e+06</td>\n",
       "      <td>0</td>\n",
       "      <td>0</td>\n",
       "      <td>0</td>\n",
       "      <td>0</td>\n",
       "      <td>0</td>\n",
       "      <td>0</td>\n",
       "      <td>1</td>\n",
       "      <td>20.001783</td>\n",
       "      <td>149.984353</td>\n",
       "      <td>3870.643105</td>\n",
       "      <td>0.000000</td>\n",
       "      <td>3160.915792</td>\n",
       "      <td>8956.104516</td>\n",
       "      <td>659.931152</td>\n",
       "      <td>22.405678</td>\n",
       "      <td>0</td>\n",
       "      <td>0</td>\n",
       "    </tr>\n",
       "    <tr>\n",
       "      <th>1063383</th>\n",
       "      <td>267137.799161</td>\n",
       "      <td>2.166325e+06</td>\n",
       "      <td>0</td>\n",
       "      <td>0</td>\n",
       "      <td>0</td>\n",
       "      <td>0</td>\n",
       "      <td>0</td>\n",
       "      <td>0</td>\n",
       "      <td>1</td>\n",
       "      <td>8.530765</td>\n",
       "      <td>3233.302791</td>\n",
       "      <td>5275.949353</td>\n",
       "      <td>0.000000</td>\n",
       "      <td>5871.281382</td>\n",
       "      <td>14101.465104</td>\n",
       "      <td>2403.228379</td>\n",
       "      <td>50.981353</td>\n",
       "      <td>0</td>\n",
       "      <td>0</td>\n",
       "    </tr>\n",
       "    <tr>\n",
       "      <th>105394</th>\n",
       "      <td>259548.590918</td>\n",
       "      <td>2.190839e+06</td>\n",
       "      <td>0</td>\n",
       "      <td>0</td>\n",
       "      <td>0</td>\n",
       "      <td>0</td>\n",
       "      <td>1</td>\n",
       "      <td>0</td>\n",
       "      <td>0</td>\n",
       "      <td>11.648635</td>\n",
       "      <td>15092.699763</td>\n",
       "      <td>6085.774821</td>\n",
       "      <td>540.084624</td>\n",
       "      <td>3490.999964</td>\n",
       "      <td>15104.457159</td>\n",
       "      <td>859.164515</td>\n",
       "      <td>58.415724</td>\n",
       "      <td>0</td>\n",
       "      <td>0</td>\n",
       "    </tr>\n",
       "    <tr>\n",
       "      <th>1307358</th>\n",
       "      <td>264288.096461</td>\n",
       "      <td>2.155194e+06</td>\n",
       "      <td>0</td>\n",
       "      <td>0</td>\n",
       "      <td>0</td>\n",
       "      <td>1</td>\n",
       "      <td>0</td>\n",
       "      <td>0</td>\n",
       "      <td>0</td>\n",
       "      <td>8.293805</td>\n",
       "      <td>7455.846268</td>\n",
       "      <td>2308.475926</td>\n",
       "      <td>123.682165</td>\n",
       "      <td>9630.502518</td>\n",
       "      <td>25588.503800</td>\n",
       "      <td>706.218477</td>\n",
       "      <td>45.116080</td>\n",
       "      <td>0</td>\n",
       "      <td>0</td>\n",
       "    </tr>\n",
       "    <tr>\n",
       "      <th>...</th>\n",
       "      <td>...</td>\n",
       "      <td>...</td>\n",
       "      <td>...</td>\n",
       "      <td>...</td>\n",
       "      <td>...</td>\n",
       "      <td>...</td>\n",
       "      <td>...</td>\n",
       "      <td>...</td>\n",
       "      <td>...</td>\n",
       "      <td>...</td>\n",
       "      <td>...</td>\n",
       "      <td>...</td>\n",
       "      <td>...</td>\n",
       "      <td>...</td>\n",
       "      <td>...</td>\n",
       "      <td>...</td>\n",
       "      <td>...</td>\n",
       "      <td>...</td>\n",
       "      <td>...</td>\n",
       "    </tr>\n",
       "    <tr>\n",
       "      <th>662063</th>\n",
       "      <td>273467.138842</td>\n",
       "      <td>2.176527e+06</td>\n",
       "      <td>0</td>\n",
       "      <td>0</td>\n",
       "      <td>0</td>\n",
       "      <td>1</td>\n",
       "      <td>0</td>\n",
       "      <td>0</td>\n",
       "      <td>0</td>\n",
       "      <td>0.000000</td>\n",
       "      <td>189.721820</td>\n",
       "      <td>4200.141626</td>\n",
       "      <td>228.458615</td>\n",
       "      <td>953.552253</td>\n",
       "      <td>4861.751018</td>\n",
       "      <td>715.668296</td>\n",
       "      <td>17.417557</td>\n",
       "      <td>0</td>\n",
       "      <td>1</td>\n",
       "    </tr>\n",
       "    <tr>\n",
       "      <th>274291</th>\n",
       "      <td>239450.687667</td>\n",
       "      <td>2.185648e+06</td>\n",
       "      <td>0</td>\n",
       "      <td>0</td>\n",
       "      <td>0</td>\n",
       "      <td>0</td>\n",
       "      <td>0</td>\n",
       "      <td>0</td>\n",
       "      <td>1</td>\n",
       "      <td>8.049467</td>\n",
       "      <td>24523.991335</td>\n",
       "      <td>6449.111330</td>\n",
       "      <td>0.000000</td>\n",
       "      <td>3586.134437</td>\n",
       "      <td>31214.318439</td>\n",
       "      <td>2637.812069</td>\n",
       "      <td>80.135855</td>\n",
       "      <td>0</td>\n",
       "      <td>0</td>\n",
       "    </tr>\n",
       "    <tr>\n",
       "      <th>1136470</th>\n",
       "      <td>267137.799161</td>\n",
       "      <td>2.163925e+06</td>\n",
       "      <td>0</td>\n",
       "      <td>0</td>\n",
       "      <td>0</td>\n",
       "      <td>1</td>\n",
       "      <td>0</td>\n",
       "      <td>0</td>\n",
       "      <td>0</td>\n",
       "      <td>8.293805</td>\n",
       "      <td>2175.794526</td>\n",
       "      <td>4334.664682</td>\n",
       "      <td>29.996871</td>\n",
       "      <td>5760.993237</td>\n",
       "      <td>16453.870093</td>\n",
       "      <td>2264.936049</td>\n",
       "      <td>52.111968</td>\n",
       "      <td>0</td>\n",
       "      <td>0</td>\n",
       "    </tr>\n",
       "    <tr>\n",
       "      <th>832763</th>\n",
       "      <td>268667.639558</td>\n",
       "      <td>2.172506e+06</td>\n",
       "      <td>0</td>\n",
       "      <td>0</td>\n",
       "      <td>0</td>\n",
       "      <td>0</td>\n",
       "      <td>0</td>\n",
       "      <td>0</td>\n",
       "      <td>1</td>\n",
       "      <td>37.112507</td>\n",
       "      <td>757.147601</td>\n",
       "      <td>4227.932522</td>\n",
       "      <td>0.000000</td>\n",
       "      <td>2402.765428</td>\n",
       "      <td>7737.938203</td>\n",
       "      <td>456.999489</td>\n",
       "      <td>19.477463</td>\n",
       "      <td>0</td>\n",
       "      <td>0</td>\n",
       "    </tr>\n",
       "    <tr>\n",
       "      <th>649827</th>\n",
       "      <td>246469.955369</td>\n",
       "      <td>2.176797e+06</td>\n",
       "      <td>0</td>\n",
       "      <td>0</td>\n",
       "      <td>0</td>\n",
       "      <td>1</td>\n",
       "      <td>0</td>\n",
       "      <td>0</td>\n",
       "      <td>0</td>\n",
       "      <td>11.309933</td>\n",
       "      <td>14639.211316</td>\n",
       "      <td>10404.665195</td>\n",
       "      <td>84.855037</td>\n",
       "      <td>2233.747635</td>\n",
       "      <td>23926.266596</td>\n",
       "      <td>1831.660769</td>\n",
       "      <td>48.278107</td>\n",
       "      <td>0</td>\n",
       "      <td>0</td>\n",
       "    </tr>\n",
       "  </tbody>\n",
       "</table>\n",
       "<p>1081729 rows × 19 columns</p>\n",
       "</div>"
      ],
      "text/plain": [
       "                   Lat           Lon  Urbano  Cuerpos_agua  Cultivo_riego  \\\n",
       "835002   260208.522070  2.172446e+06       0             0              0   \n",
       "878221   268457.661464  2.171306e+06       0             0              0   \n",
       "1063383  267137.799161  2.166325e+06       0             0              0   \n",
       "105394   259548.590918  2.190839e+06       0             0              0   \n",
       "1307358  264288.096461  2.155194e+06       0             0              0   \n",
       "...                ...           ...     ...           ...            ...   \n",
       "662063   273467.138842  2.176527e+06       0             0              0   \n",
       "274291   239450.687667  2.185648e+06       0             0              0   \n",
       "1136470  267137.799161  2.163925e+06       0             0              0   \n",
       "832763   268667.639558  2.172506e+06       0             0              0   \n",
       "649827   246469.955369  2.176797e+06       0             0              0   \n",
       "\n",
       "         Cultivo Temporal  Past&Mat  Suelo_desnudo  Vegetacion  Pendiente  \\\n",
       "835002                  0         1              0           0  13.900669   \n",
       "878221                  0         0              0           1  20.001783   \n",
       "1063383                 0         0              0           1   8.530765   \n",
       "105394                  0         1              0           0  11.648635   \n",
       "1307358                 1         0              0           0   8.293805   \n",
       "...                   ...       ...            ...         ...        ...   \n",
       "662063                  1         0              0           0   0.000000   \n",
       "274291                  0         0              0           1   8.049467   \n",
       "1136470                 1         0              0           0   8.293805   \n",
       "832763                  0         0              0           1  37.112507   \n",
       "649827                  1         0              0           0  11.309933   \n",
       "\n",
       "            Dist_ANPS     Dist_agua   Dist_veget     Dist_urb   Dist_centro  \\\n",
       "835002     684.145160   1966.784571  1816.112166  2005.758472  12558.731947   \n",
       "878221     149.984353   3870.643105     0.000000  3160.915792   8956.104516   \n",
       "1063383   3233.302791   5275.949353     0.000000  5871.281382  14101.465104   \n",
       "105394   15092.699763   6085.774821   540.084624  3490.999964  15104.457159   \n",
       "1307358   7455.846268   2308.475926   123.682165  9630.502518  25588.503800   \n",
       "...               ...           ...          ...          ...           ...   \n",
       "662063     189.721820   4200.141626   228.458615   953.552253   4861.751018   \n",
       "274291   24523.991335   6449.111330     0.000000  3586.134437  31214.318439   \n",
       "1136470   2175.794526   4334.664682    29.996871  5760.993237  16453.870093   \n",
       "832763     757.147601   4227.932522     0.000000  2402.765428   7737.938203   \n",
       "649827   14639.211316  10404.665195    84.855037  2233.747635  23926.266596   \n",
       "\n",
       "         Dist_carreteras      Costo  No_Urb  Difer  \n",
       "835002        630.098728  22.356823       0      1  \n",
       "878221        659.931152  22.405678       0      0  \n",
       "1063383      2403.228379  50.981353       0      0  \n",
       "105394        859.164515  58.415724       0      0  \n",
       "1307358       706.218477  45.116080       0      0  \n",
       "...                  ...        ...     ...    ...  \n",
       "662063        715.668296  17.417557       0      1  \n",
       "274291       2637.812069  80.135855       0      0  \n",
       "1136470      2264.936049  52.111968       0      0  \n",
       "832763        456.999489  19.477463       0      0  \n",
       "649827       1831.660769  48.278107       0      0  \n",
       "\n",
       "[1081729 rows x 19 columns]"
      ]
     },
     "execution_count": 11,
     "metadata": {},
     "output_type": "execute_result"
    }
   ],
   "source": [
    "df"
   ]
  },
  {
   "cell_type": "markdown",
   "metadata": {},
   "source": [
    "Eliminación de columnas no útiles"
   ]
  },
  {
   "cell_type": "code",
   "execution_count": 12,
   "metadata": {},
   "outputs": [],
   "source": [
    "df.drop(['Lat','Lon','Cuerpos_agua','Cultivo_riego','Cultivo Temporal','Past&Mat','Suelo_desnudo','Vegetacion',\n",
    "        'No_Urb','Urbano'], axis = 1,inplace=True)"
   ]
  },
  {
   "cell_type": "code",
   "execution_count": 13,
   "metadata": {},
   "outputs": [
    {
     "data": {
      "text/html": [
       "<div>\n",
       "<style scoped>\n",
       "    .dataframe tbody tr th:only-of-type {\n",
       "        vertical-align: middle;\n",
       "    }\n",
       "\n",
       "    .dataframe tbody tr th {\n",
       "        vertical-align: top;\n",
       "    }\n",
       "\n",
       "    .dataframe thead th {\n",
       "        text-align: right;\n",
       "    }\n",
       "</style>\n",
       "<table border=\"1\" class=\"dataframe\">\n",
       "  <thead>\n",
       "    <tr style=\"text-align: right;\">\n",
       "      <th></th>\n",
       "      <th>Pendiente</th>\n",
       "      <th>Dist_ANPS</th>\n",
       "      <th>Dist_agua</th>\n",
       "      <th>Dist_veget</th>\n",
       "      <th>Dist_urb</th>\n",
       "      <th>Dist_centro</th>\n",
       "      <th>Dist_carreteras</th>\n",
       "      <th>Costo</th>\n",
       "      <th>Difer</th>\n",
       "    </tr>\n",
       "  </thead>\n",
       "  <tbody>\n",
       "    <tr>\n",
       "      <th>835002</th>\n",
       "      <td>13.900669</td>\n",
       "      <td>684.145160</td>\n",
       "      <td>1966.784571</td>\n",
       "      <td>1816.112166</td>\n",
       "      <td>2005.758472</td>\n",
       "      <td>12558.731947</td>\n",
       "      <td>630.098728</td>\n",
       "      <td>22.356823</td>\n",
       "      <td>1</td>\n",
       "    </tr>\n",
       "    <tr>\n",
       "      <th>878221</th>\n",
       "      <td>20.001783</td>\n",
       "      <td>149.984353</td>\n",
       "      <td>3870.643105</td>\n",
       "      <td>0.000000</td>\n",
       "      <td>3160.915792</td>\n",
       "      <td>8956.104516</td>\n",
       "      <td>659.931152</td>\n",
       "      <td>22.405678</td>\n",
       "      <td>0</td>\n",
       "    </tr>\n",
       "    <tr>\n",
       "      <th>1063383</th>\n",
       "      <td>8.530765</td>\n",
       "      <td>3233.302791</td>\n",
       "      <td>5275.949353</td>\n",
       "      <td>0.000000</td>\n",
       "      <td>5871.281382</td>\n",
       "      <td>14101.465104</td>\n",
       "      <td>2403.228379</td>\n",
       "      <td>50.981353</td>\n",
       "      <td>0</td>\n",
       "    </tr>\n",
       "    <tr>\n",
       "      <th>105394</th>\n",
       "      <td>11.648635</td>\n",
       "      <td>15092.699763</td>\n",
       "      <td>6085.774821</td>\n",
       "      <td>540.084624</td>\n",
       "      <td>3490.999964</td>\n",
       "      <td>15104.457159</td>\n",
       "      <td>859.164515</td>\n",
       "      <td>58.415724</td>\n",
       "      <td>0</td>\n",
       "    </tr>\n",
       "    <tr>\n",
       "      <th>1307358</th>\n",
       "      <td>8.293805</td>\n",
       "      <td>7455.846268</td>\n",
       "      <td>2308.475926</td>\n",
       "      <td>123.682165</td>\n",
       "      <td>9630.502518</td>\n",
       "      <td>25588.503800</td>\n",
       "      <td>706.218477</td>\n",
       "      <td>45.116080</td>\n",
       "      <td>0</td>\n",
       "    </tr>\n",
       "    <tr>\n",
       "      <th>...</th>\n",
       "      <td>...</td>\n",
       "      <td>...</td>\n",
       "      <td>...</td>\n",
       "      <td>...</td>\n",
       "      <td>...</td>\n",
       "      <td>...</td>\n",
       "      <td>...</td>\n",
       "      <td>...</td>\n",
       "      <td>...</td>\n",
       "    </tr>\n",
       "    <tr>\n",
       "      <th>662063</th>\n",
       "      <td>0.000000</td>\n",
       "      <td>189.721820</td>\n",
       "      <td>4200.141626</td>\n",
       "      <td>228.458615</td>\n",
       "      <td>953.552253</td>\n",
       "      <td>4861.751018</td>\n",
       "      <td>715.668296</td>\n",
       "      <td>17.417557</td>\n",
       "      <td>1</td>\n",
       "    </tr>\n",
       "    <tr>\n",
       "      <th>274291</th>\n",
       "      <td>8.049467</td>\n",
       "      <td>24523.991335</td>\n",
       "      <td>6449.111330</td>\n",
       "      <td>0.000000</td>\n",
       "      <td>3586.134437</td>\n",
       "      <td>31214.318439</td>\n",
       "      <td>2637.812069</td>\n",
       "      <td>80.135855</td>\n",
       "      <td>0</td>\n",
       "    </tr>\n",
       "    <tr>\n",
       "      <th>1136470</th>\n",
       "      <td>8.293805</td>\n",
       "      <td>2175.794526</td>\n",
       "      <td>4334.664682</td>\n",
       "      <td>29.996871</td>\n",
       "      <td>5760.993237</td>\n",
       "      <td>16453.870093</td>\n",
       "      <td>2264.936049</td>\n",
       "      <td>52.111968</td>\n",
       "      <td>0</td>\n",
       "    </tr>\n",
       "    <tr>\n",
       "      <th>832763</th>\n",
       "      <td>37.112507</td>\n",
       "      <td>757.147601</td>\n",
       "      <td>4227.932522</td>\n",
       "      <td>0.000000</td>\n",
       "      <td>2402.765428</td>\n",
       "      <td>7737.938203</td>\n",
       "      <td>456.999489</td>\n",
       "      <td>19.477463</td>\n",
       "      <td>0</td>\n",
       "    </tr>\n",
       "    <tr>\n",
       "      <th>649827</th>\n",
       "      <td>11.309933</td>\n",
       "      <td>14639.211316</td>\n",
       "      <td>10404.665195</td>\n",
       "      <td>84.855037</td>\n",
       "      <td>2233.747635</td>\n",
       "      <td>23926.266596</td>\n",
       "      <td>1831.660769</td>\n",
       "      <td>48.278107</td>\n",
       "      <td>0</td>\n",
       "    </tr>\n",
       "  </tbody>\n",
       "</table>\n",
       "<p>1081729 rows × 9 columns</p>\n",
       "</div>"
      ],
      "text/plain": [
       "         Pendiente     Dist_ANPS     Dist_agua   Dist_veget     Dist_urb  \\\n",
       "835002   13.900669    684.145160   1966.784571  1816.112166  2005.758472   \n",
       "878221   20.001783    149.984353   3870.643105     0.000000  3160.915792   \n",
       "1063383   8.530765   3233.302791   5275.949353     0.000000  5871.281382   \n",
       "105394   11.648635  15092.699763   6085.774821   540.084624  3490.999964   \n",
       "1307358   8.293805   7455.846268   2308.475926   123.682165  9630.502518   \n",
       "...            ...           ...           ...          ...          ...   \n",
       "662063    0.000000    189.721820   4200.141626   228.458615   953.552253   \n",
       "274291    8.049467  24523.991335   6449.111330     0.000000  3586.134437   \n",
       "1136470   8.293805   2175.794526   4334.664682    29.996871  5760.993237   \n",
       "832763   37.112507    757.147601   4227.932522     0.000000  2402.765428   \n",
       "649827   11.309933  14639.211316  10404.665195    84.855037  2233.747635   \n",
       "\n",
       "          Dist_centro  Dist_carreteras      Costo  Difer  \n",
       "835002   12558.731947       630.098728  22.356823      1  \n",
       "878221    8956.104516       659.931152  22.405678      0  \n",
       "1063383  14101.465104      2403.228379  50.981353      0  \n",
       "105394   15104.457159       859.164515  58.415724      0  \n",
       "1307358  25588.503800       706.218477  45.116080      0  \n",
       "...               ...              ...        ...    ...  \n",
       "662063    4861.751018       715.668296  17.417557      1  \n",
       "274291   31214.318439      2637.812069  80.135855      0  \n",
       "1136470  16453.870093      2264.936049  52.111968      0  \n",
       "832763    7737.938203       456.999489  19.477463      0  \n",
       "649827   23926.266596      1831.660769  48.278107      0  \n",
       "\n",
       "[1081729 rows x 9 columns]"
      ]
     },
     "execution_count": 13,
     "metadata": {},
     "output_type": "execute_result"
    }
   ],
   "source": [
    "df"
   ]
  },
  {
   "cell_type": "markdown",
   "metadata": {},
   "source": [
    "Revisión de columnas predictoras y columna objetivo"
   ]
  },
  {
   "cell_type": "code",
   "execution_count": 14,
   "metadata": {},
   "outputs": [
    {
     "data": {
      "text/plain": [
       "0    1001062\n",
       "1      80667\n",
       "Name: Difer, dtype: int64"
      ]
     },
     "execution_count": 14,
     "metadata": {},
     "output_type": "execute_result"
    }
   ],
   "source": [
    "df['Difer'].value_counts()\n",
    "\n",
    "#aqui hay que hcer esto:\n",
    "# escoger aleatoriamente el 70% de las 80667 celdas que pasaron a ser urbanizadas n = 0.7* df['Difer'].value_counts(1)\n",
    "# escoger aleatoriamente n vectores con etiqueta 0."
   ]
  },
  {
   "cell_type": "code",
   "execution_count": 15,
   "metadata": {},
   "outputs": [],
   "source": [
    "df_cambio=df[df[\"Difer\"]==1]\n",
    "df_no_cambio=df[df[\"Difer\"]==0]"
   ]
  },
  {
   "cell_type": "code",
   "execution_count": 16,
   "metadata": {},
   "outputs": [],
   "source": [
    "new_set=pd.concat([df_cambio,df_no_cambio.iloc[:80667,:]],axis=0)"
   ]
  },
  {
   "cell_type": "code",
   "execution_count": 17,
   "metadata": {},
   "outputs": [
    {
     "data": {
      "text/html": [
       "<div>\n",
       "<style scoped>\n",
       "    .dataframe tbody tr th:only-of-type {\n",
       "        vertical-align: middle;\n",
       "    }\n",
       "\n",
       "    .dataframe tbody tr th {\n",
       "        vertical-align: top;\n",
       "    }\n",
       "\n",
       "    .dataframe thead th {\n",
       "        text-align: right;\n",
       "    }\n",
       "</style>\n",
       "<table border=\"1\" class=\"dataframe\">\n",
       "  <thead>\n",
       "    <tr style=\"text-align: right;\">\n",
       "      <th></th>\n",
       "      <th>Pendiente</th>\n",
       "      <th>Dist_ANPS</th>\n",
       "      <th>Dist_agua</th>\n",
       "      <th>Dist_veget</th>\n",
       "      <th>Dist_urb</th>\n",
       "      <th>Dist_centro</th>\n",
       "      <th>Dist_carreteras</th>\n",
       "      <th>Costo</th>\n",
       "      <th>Difer</th>\n",
       "    </tr>\n",
       "  </thead>\n",
       "  <tbody>\n",
       "    <tr>\n",
       "      <th>821059</th>\n",
       "      <td>2.024868</td>\n",
       "      <td>456.917230</td>\n",
       "      <td>1972.988132</td>\n",
       "      <td>0.000000</td>\n",
       "      <td>517.957370</td>\n",
       "      <td>8425.228039</td>\n",
       "      <td>169.710075</td>\n",
       "      <td>17.381698</td>\n",
       "      <td>1</td>\n",
       "    </tr>\n",
       "    <tr>\n",
       "      <th>938025</th>\n",
       "      <td>11.648635</td>\n",
       "      <td>84.855037</td>\n",
       "      <td>4983.038119</td>\n",
       "      <td>0.000000</td>\n",
       "      <td>1200.075299</td>\n",
       "      <td>12548.277080</td>\n",
       "      <td>29.996871</td>\n",
       "      <td>21.776019</td>\n",
       "      <td>0</td>\n",
       "    </tr>\n",
       "    <tr>\n",
       "      <th>548018</th>\n",
       "      <td>21.568129</td>\n",
       "      <td>1994.291899</td>\n",
       "      <td>5004.858319</td>\n",
       "      <td>0.000000</td>\n",
       "      <td>1183.648839</td>\n",
       "      <td>9531.892197</td>\n",
       "      <td>917.958132</td>\n",
       "      <td>22.775668</td>\n",
       "      <td>1</td>\n",
       "    </tr>\n",
       "    <tr>\n",
       "      <th>826192</th>\n",
       "      <td>5.710593</td>\n",
       "      <td>1620.942203</td>\n",
       "      <td>1127.420970</td>\n",
       "      <td>29.996871</td>\n",
       "      <td>870.017264</td>\n",
       "      <td>9176.155752</td>\n",
       "      <td>201.267150</td>\n",
       "      <td>20.208229</td>\n",
       "      <td>1</td>\n",
       "    </tr>\n",
       "    <tr>\n",
       "      <th>741494</th>\n",
       "      <td>4.520227</td>\n",
       "      <td>2068.828214</td>\n",
       "      <td>5941.053488</td>\n",
       "      <td>30.004701</td>\n",
       "      <td>134.178100</td>\n",
       "      <td>5493.711789</td>\n",
       "      <td>484.723337</td>\n",
       "      <td>14.533907</td>\n",
       "      <td>1</td>\n",
       "    </tr>\n",
       "    <tr>\n",
       "      <th>...</th>\n",
       "      <td>...</td>\n",
       "      <td>...</td>\n",
       "      <td>...</td>\n",
       "      <td>...</td>\n",
       "      <td>...</td>\n",
       "      <td>...</td>\n",
       "      <td>...</td>\n",
       "      <td>...</td>\n",
       "      <td>...</td>\n",
       "    </tr>\n",
       "    <tr>\n",
       "      <th>284238</th>\n",
       "      <td>0.000000</td>\n",
       "      <td>15288.494182</td>\n",
       "      <td>2269.976915</td>\n",
       "      <td>308.898294</td>\n",
       "      <td>4648.063944</td>\n",
       "      <td>20700.761004</td>\n",
       "      <td>1412.101594</td>\n",
       "      <td>44.770775</td>\n",
       "      <td>0</td>\n",
       "    </tr>\n",
       "    <tr>\n",
       "      <th>687946</th>\n",
       "      <td>15.069956</td>\n",
       "      <td>11771.683711</td>\n",
       "      <td>11149.553619</td>\n",
       "      <td>1021.767886</td>\n",
       "      <td>600.094026</td>\n",
       "      <td>21384.449726</td>\n",
       "      <td>342.072580</td>\n",
       "      <td>28.022548</td>\n",
       "      <td>0</td>\n",
       "    </tr>\n",
       "    <tr>\n",
       "      <th>707681</th>\n",
       "      <td>2.862405</td>\n",
       "      <td>1113.756233</td>\n",
       "      <td>4167.112332</td>\n",
       "      <td>241.858044</td>\n",
       "      <td>531.556949</td>\n",
       "      <td>5534.202734</td>\n",
       "      <td>89.990612</td>\n",
       "      <td>10.967552</td>\n",
       "      <td>1</td>\n",
       "    </tr>\n",
       "    <tr>\n",
       "      <th>656935</th>\n",
       "      <td>6.054499</td>\n",
       "      <td>666.152888</td>\n",
       "      <td>6376.016179</td>\n",
       "      <td>649.048814</td>\n",
       "      <td>29.996871</td>\n",
       "      <td>3598.112525</td>\n",
       "      <td>365.020371</td>\n",
       "      <td>11.230886</td>\n",
       "      <td>1</td>\n",
       "    </tr>\n",
       "    <tr>\n",
       "      <th>176355</th>\n",
       "      <td>15.909876</td>\n",
       "      <td>13848.009647</td>\n",
       "      <td>5429.505748</td>\n",
       "      <td>1261.684295</td>\n",
       "      <td>752.318934</td>\n",
       "      <td>15950.465726</td>\n",
       "      <td>865.775156</td>\n",
       "      <td>40.029666</td>\n",
       "      <td>0</td>\n",
       "    </tr>\n",
       "  </tbody>\n",
       "</table>\n",
       "<p>161334 rows × 9 columns</p>\n",
       "</div>"
      ],
      "text/plain": [
       "        Pendiente     Dist_ANPS     Dist_agua   Dist_veget     Dist_urb  \\\n",
       "821059   2.024868    456.917230   1972.988132     0.000000   517.957370   \n",
       "938025  11.648635     84.855037   4983.038119     0.000000  1200.075299   \n",
       "548018  21.568129   1994.291899   5004.858319     0.000000  1183.648839   \n",
       "826192   5.710593   1620.942203   1127.420970    29.996871   870.017264   \n",
       "741494   4.520227   2068.828214   5941.053488    30.004701   134.178100   \n",
       "...           ...           ...           ...          ...          ...   \n",
       "284238   0.000000  15288.494182   2269.976915   308.898294  4648.063944   \n",
       "687946  15.069956  11771.683711  11149.553619  1021.767886   600.094026   \n",
       "707681   2.862405   1113.756233   4167.112332   241.858044   531.556949   \n",
       "656935   6.054499    666.152888   6376.016179   649.048814    29.996871   \n",
       "176355  15.909876  13848.009647   5429.505748  1261.684295   752.318934   \n",
       "\n",
       "         Dist_centro  Dist_carreteras      Costo  Difer  \n",
       "821059   8425.228039       169.710075  17.381698      1  \n",
       "938025  12548.277080        29.996871  21.776019      0  \n",
       "548018   9531.892197       917.958132  22.775668      1  \n",
       "826192   9176.155752       201.267150  20.208229      1  \n",
       "741494   5493.711789       484.723337  14.533907      1  \n",
       "...              ...              ...        ...    ...  \n",
       "284238  20700.761004      1412.101594  44.770775      0  \n",
       "687946  21384.449726       342.072580  28.022548      0  \n",
       "707681   5534.202734        89.990612  10.967552      1  \n",
       "656935   3598.112525       365.020371  11.230886      1  \n",
       "176355  15950.465726       865.775156  40.029666      0  \n",
       "\n",
       "[161334 rows x 9 columns]"
      ]
     },
     "execution_count": 17,
     "metadata": {},
     "output_type": "execute_result"
    }
   ],
   "source": [
    "new_set = new_set.sample(frac = 1)\n",
    "new_set"
   ]
  },
  {
   "cell_type": "code",
   "execution_count": null,
   "metadata": {},
   "outputs": [],
   "source": []
  },
  {
   "cell_type": "code",
   "execution_count": 18,
   "metadata": {},
   "outputs": [
    {
     "data": {
      "text/html": [
       "<div>\n",
       "<style scoped>\n",
       "    .dataframe tbody tr th:only-of-type {\n",
       "        vertical-align: middle;\n",
       "    }\n",
       "\n",
       "    .dataframe tbody tr th {\n",
       "        vertical-align: top;\n",
       "    }\n",
       "\n",
       "    .dataframe thead th {\n",
       "        text-align: right;\n",
       "    }\n",
       "</style>\n",
       "<table border=\"1\" class=\"dataframe\">\n",
       "  <thead>\n",
       "    <tr style=\"text-align: right;\">\n",
       "      <th></th>\n",
       "      <th>Pendiente</th>\n",
       "      <th>Dist_ANPS</th>\n",
       "      <th>Dist_agua</th>\n",
       "      <th>Dist_veget</th>\n",
       "      <th>Dist_urb</th>\n",
       "      <th>Dist_centro</th>\n",
       "      <th>Dist_carreteras</th>\n",
       "      <th>Costo</th>\n",
       "    </tr>\n",
       "  </thead>\n",
       "  <tbody>\n",
       "    <tr>\n",
       "      <th>835002</th>\n",
       "      <td>13.900669</td>\n",
       "      <td>684.145160</td>\n",
       "      <td>1966.784571</td>\n",
       "      <td>1816.112166</td>\n",
       "      <td>2005.758472</td>\n",
       "      <td>12558.731947</td>\n",
       "      <td>630.098728</td>\n",
       "      <td>22.356823</td>\n",
       "    </tr>\n",
       "    <tr>\n",
       "      <th>878221</th>\n",
       "      <td>20.001783</td>\n",
       "      <td>149.984353</td>\n",
       "      <td>3870.643105</td>\n",
       "      <td>0.000000</td>\n",
       "      <td>3160.915792</td>\n",
       "      <td>8956.104516</td>\n",
       "      <td>659.931152</td>\n",
       "      <td>22.405678</td>\n",
       "    </tr>\n",
       "    <tr>\n",
       "      <th>1063383</th>\n",
       "      <td>8.530765</td>\n",
       "      <td>3233.302791</td>\n",
       "      <td>5275.949353</td>\n",
       "      <td>0.000000</td>\n",
       "      <td>5871.281382</td>\n",
       "      <td>14101.465104</td>\n",
       "      <td>2403.228379</td>\n",
       "      <td>50.981353</td>\n",
       "    </tr>\n",
       "    <tr>\n",
       "      <th>105394</th>\n",
       "      <td>11.648635</td>\n",
       "      <td>15092.699763</td>\n",
       "      <td>6085.774821</td>\n",
       "      <td>540.084624</td>\n",
       "      <td>3490.999964</td>\n",
       "      <td>15104.457159</td>\n",
       "      <td>859.164515</td>\n",
       "      <td>58.415724</td>\n",
       "    </tr>\n",
       "    <tr>\n",
       "      <th>1307358</th>\n",
       "      <td>8.293805</td>\n",
       "      <td>7455.846268</td>\n",
       "      <td>2308.475926</td>\n",
       "      <td>123.682165</td>\n",
       "      <td>9630.502518</td>\n",
       "      <td>25588.503800</td>\n",
       "      <td>706.218477</td>\n",
       "      <td>45.116080</td>\n",
       "    </tr>\n",
       "    <tr>\n",
       "      <th>...</th>\n",
       "      <td>...</td>\n",
       "      <td>...</td>\n",
       "      <td>...</td>\n",
       "      <td>...</td>\n",
       "      <td>...</td>\n",
       "      <td>...</td>\n",
       "      <td>...</td>\n",
       "      <td>...</td>\n",
       "    </tr>\n",
       "    <tr>\n",
       "      <th>662063</th>\n",
       "      <td>0.000000</td>\n",
       "      <td>189.721820</td>\n",
       "      <td>4200.141626</td>\n",
       "      <td>228.458615</td>\n",
       "      <td>953.552253</td>\n",
       "      <td>4861.751018</td>\n",
       "      <td>715.668296</td>\n",
       "      <td>17.417557</td>\n",
       "    </tr>\n",
       "    <tr>\n",
       "      <th>274291</th>\n",
       "      <td>8.049467</td>\n",
       "      <td>24523.991335</td>\n",
       "      <td>6449.111330</td>\n",
       "      <td>0.000000</td>\n",
       "      <td>3586.134437</td>\n",
       "      <td>31214.318439</td>\n",
       "      <td>2637.812069</td>\n",
       "      <td>80.135855</td>\n",
       "    </tr>\n",
       "    <tr>\n",
       "      <th>1136470</th>\n",
       "      <td>8.293805</td>\n",
       "      <td>2175.794526</td>\n",
       "      <td>4334.664682</td>\n",
       "      <td>29.996871</td>\n",
       "      <td>5760.993237</td>\n",
       "      <td>16453.870093</td>\n",
       "      <td>2264.936049</td>\n",
       "      <td>52.111968</td>\n",
       "    </tr>\n",
       "    <tr>\n",
       "      <th>832763</th>\n",
       "      <td>37.112507</td>\n",
       "      <td>757.147601</td>\n",
       "      <td>4227.932522</td>\n",
       "      <td>0.000000</td>\n",
       "      <td>2402.765428</td>\n",
       "      <td>7737.938203</td>\n",
       "      <td>456.999489</td>\n",
       "      <td>19.477463</td>\n",
       "    </tr>\n",
       "    <tr>\n",
       "      <th>649827</th>\n",
       "      <td>11.309933</td>\n",
       "      <td>14639.211316</td>\n",
       "      <td>10404.665195</td>\n",
       "      <td>84.855037</td>\n",
       "      <td>2233.747635</td>\n",
       "      <td>23926.266596</td>\n",
       "      <td>1831.660769</td>\n",
       "      <td>48.278107</td>\n",
       "    </tr>\n",
       "  </tbody>\n",
       "</table>\n",
       "<p>1081729 rows × 8 columns</p>\n",
       "</div>"
      ],
      "text/plain": [
       "         Pendiente     Dist_ANPS     Dist_agua   Dist_veget     Dist_urb  \\\n",
       "835002   13.900669    684.145160   1966.784571  1816.112166  2005.758472   \n",
       "878221   20.001783    149.984353   3870.643105     0.000000  3160.915792   \n",
       "1063383   8.530765   3233.302791   5275.949353     0.000000  5871.281382   \n",
       "105394   11.648635  15092.699763   6085.774821   540.084624  3490.999964   \n",
       "1307358   8.293805   7455.846268   2308.475926   123.682165  9630.502518   \n",
       "...            ...           ...           ...          ...          ...   \n",
       "662063    0.000000    189.721820   4200.141626   228.458615   953.552253   \n",
       "274291    8.049467  24523.991335   6449.111330     0.000000  3586.134437   \n",
       "1136470   8.293805   2175.794526   4334.664682    29.996871  5760.993237   \n",
       "832763   37.112507    757.147601   4227.932522     0.000000  2402.765428   \n",
       "649827   11.309933  14639.211316  10404.665195    84.855037  2233.747635   \n",
       "\n",
       "          Dist_centro  Dist_carreteras      Costo  \n",
       "835002   12558.731947       630.098728  22.356823  \n",
       "878221    8956.104516       659.931152  22.405678  \n",
       "1063383  14101.465104      2403.228379  50.981353  \n",
       "105394   15104.457159       859.164515  58.415724  \n",
       "1307358  25588.503800       706.218477  45.116080  \n",
       "...               ...              ...        ...  \n",
       "662063    4861.751018       715.668296  17.417557  \n",
       "274291   31214.318439      2637.812069  80.135855  \n",
       "1136470  16453.870093      2264.936049  52.111968  \n",
       "832763    7737.938203       456.999489  19.477463  \n",
       "649827   23926.266596      1831.660769  48.278107  \n",
       "\n",
       "[1081729 rows x 8 columns]"
      ]
     },
     "execution_count": 18,
     "metadata": {},
     "output_type": "execute_result"
    }
   ],
   "source": [
    "df.iloc[:,:-1]"
   ]
  },
  {
   "cell_type": "markdown",
   "metadata": {},
   "source": [
    "Separación de los datos en entrenamiento y prueba"
   ]
  },
  {
   "cell_type": "code",
   "execution_count": 19,
   "metadata": {},
   "outputs": [],
   "source": [
    "from sklearn.model_selection import train_test_split"
   ]
  },
  {
   "cell_type": "code",
   "execution_count": 20,
   "metadata": {},
   "outputs": [],
   "source": [
    "# aqui no estás balanceando los datos. \n",
    "X_train, X_test, y_train, y_test = train_test_split(new_set.iloc[:,:-1], new_set[\"Difer\"], test_size=0.33, random_state=42)"
   ]
  },
  {
   "cell_type": "markdown",
   "metadata": {},
   "source": [
    "Función de precisión"
   ]
  },
  {
   "cell_type": "code",
   "execution_count": 21,
   "metadata": {},
   "outputs": [],
   "source": [
    "#Esto esta bien.\n",
    "def accuracy(confusion_matrix):\n",
    "    \"\"\"\n",
    "    Esta función mide la precisión del modelo \n",
    "    Precisión = verdaderos positivs + verdaderos negativos / la suma de todos los elementos de la matriz de confusión.\n",
    "    \"\"\"\n",
    "    \n",
    "    diagonal_sum = confusion_matrix.trace()\n",
    "    sum_of_all_elements = confusion_matrix.sum()\n",
    "    return diagonal_sum / sum_of_all_elements"
   ]
  },
  {
   "cell_type": "markdown",
   "metadata": {},
   "source": [
    "Definición del modelo y entrenamiento\n"
   ]
  },
  {
   "cell_type": "code",
   "execution_count": 22,
   "metadata": {},
   "outputs": [],
   "source": [
    "classifier = MLPClassifier(hidden_layer_sizes=(150,100,50), max_iter=500,activation = 'logistic',solver='adam',random_state=1)"
   ]
  },
  {
   "cell_type": "code",
   "execution_count": 23,
   "metadata": {},
   "outputs": [],
   "source": [
    "linear_classifier = MLPClassifier(hidden_layer_sizes=(1), max_iter=500,activation = 'identity',solver='adam',random_state=1)"
   ]
  },
  {
   "cell_type": "code",
   "execution_count": 24,
   "metadata": {},
   "outputs": [
    {
     "data": {
      "text/html": [
       "<style>#sk-container-id-1 {color: black;background-color: white;}#sk-container-id-1 pre{padding: 0;}#sk-container-id-1 div.sk-toggleable {background-color: white;}#sk-container-id-1 label.sk-toggleable__label {cursor: pointer;display: block;width: 100%;margin-bottom: 0;padding: 0.3em;box-sizing: border-box;text-align: center;}#sk-container-id-1 label.sk-toggleable__label-arrow:before {content: \"▸\";float: left;margin-right: 0.25em;color: #696969;}#sk-container-id-1 label.sk-toggleable__label-arrow:hover:before {color: black;}#sk-container-id-1 div.sk-estimator:hover label.sk-toggleable__label-arrow:before {color: black;}#sk-container-id-1 div.sk-toggleable__content {max-height: 0;max-width: 0;overflow: hidden;text-align: left;background-color: #f0f8ff;}#sk-container-id-1 div.sk-toggleable__content pre {margin: 0.2em;color: black;border-radius: 0.25em;background-color: #f0f8ff;}#sk-container-id-1 input.sk-toggleable__control:checked~div.sk-toggleable__content {max-height: 200px;max-width: 100%;overflow: auto;}#sk-container-id-1 input.sk-toggleable__control:checked~label.sk-toggleable__label-arrow:before {content: \"▾\";}#sk-container-id-1 div.sk-estimator input.sk-toggleable__control:checked~label.sk-toggleable__label {background-color: #d4ebff;}#sk-container-id-1 div.sk-label input.sk-toggleable__control:checked~label.sk-toggleable__label {background-color: #d4ebff;}#sk-container-id-1 input.sk-hidden--visually {border: 0;clip: rect(1px 1px 1px 1px);clip: rect(1px, 1px, 1px, 1px);height: 1px;margin: -1px;overflow: hidden;padding: 0;position: absolute;width: 1px;}#sk-container-id-1 div.sk-estimator {font-family: monospace;background-color: #f0f8ff;border: 1px dotted black;border-radius: 0.25em;box-sizing: border-box;margin-bottom: 0.5em;}#sk-container-id-1 div.sk-estimator:hover {background-color: #d4ebff;}#sk-container-id-1 div.sk-parallel-item::after {content: \"\";width: 100%;border-bottom: 1px solid gray;flex-grow: 1;}#sk-container-id-1 div.sk-label:hover label.sk-toggleable__label {background-color: #d4ebff;}#sk-container-id-1 div.sk-serial::before {content: \"\";position: absolute;border-left: 1px solid gray;box-sizing: border-box;top: 0;bottom: 0;left: 50%;z-index: 0;}#sk-container-id-1 div.sk-serial {display: flex;flex-direction: column;align-items: center;background-color: white;padding-right: 0.2em;padding-left: 0.2em;position: relative;}#sk-container-id-1 div.sk-item {position: relative;z-index: 1;}#sk-container-id-1 div.sk-parallel {display: flex;align-items: stretch;justify-content: center;background-color: white;position: relative;}#sk-container-id-1 div.sk-item::before, #sk-container-id-1 div.sk-parallel-item::before {content: \"\";position: absolute;border-left: 1px solid gray;box-sizing: border-box;top: 0;bottom: 0;left: 50%;z-index: -1;}#sk-container-id-1 div.sk-parallel-item {display: flex;flex-direction: column;z-index: 1;position: relative;background-color: white;}#sk-container-id-1 div.sk-parallel-item:first-child::after {align-self: flex-end;width: 50%;}#sk-container-id-1 div.sk-parallel-item:last-child::after {align-self: flex-start;width: 50%;}#sk-container-id-1 div.sk-parallel-item:only-child::after {width: 0;}#sk-container-id-1 div.sk-dashed-wrapped {border: 1px dashed gray;margin: 0 0.4em 0.5em 0.4em;box-sizing: border-box;padding-bottom: 0.4em;background-color: white;}#sk-container-id-1 div.sk-label label {font-family: monospace;font-weight: bold;display: inline-block;line-height: 1.2em;}#sk-container-id-1 div.sk-label-container {text-align: center;}#sk-container-id-1 div.sk-container {/* jupyter's `normalize.less` sets `[hidden] { display: none; }` but bootstrap.min.css set `[hidden] { display: none !important; }` so we also need the `!important` here to be able to override the default hidden behavior on the sphinx rendered scikit-learn.org. See: https://github.com/scikit-learn/scikit-learn/issues/21755 */display: inline-block !important;position: relative;}#sk-container-id-1 div.sk-text-repr-fallback {display: none;}</style><div id=\"sk-container-id-1\" class=\"sk-top-container\"><div class=\"sk-text-repr-fallback\"><pre>MLPClassifier(activation=&#x27;logistic&#x27;, hidden_layer_sizes=(150, 100, 50),\n",
       "              max_iter=500, random_state=1)</pre><b>In a Jupyter environment, please rerun this cell to show the HTML representation or trust the notebook. <br />On GitHub, the HTML representation is unable to render, please try loading this page with nbviewer.org.</b></div><div class=\"sk-container\" hidden><div class=\"sk-item\"><div class=\"sk-estimator sk-toggleable\"><input class=\"sk-toggleable__control sk-hidden--visually\" id=\"sk-estimator-id-1\" type=\"checkbox\" checked><label for=\"sk-estimator-id-1\" class=\"sk-toggleable__label sk-toggleable__label-arrow\">MLPClassifier</label><div class=\"sk-toggleable__content\"><pre>MLPClassifier(activation=&#x27;logistic&#x27;, hidden_layer_sizes=(150, 100, 50),\n",
       "              max_iter=500, random_state=1)</pre></div></div></div></div></div>"
      ],
      "text/plain": [
       "MLPClassifier(activation='logistic', hidden_layer_sizes=(150, 100, 50),\n",
       "              max_iter=500, random_state=1)"
      ]
     },
     "execution_count": 24,
     "metadata": {},
     "output_type": "execute_result"
    }
   ],
   "source": [
    "classifier"
   ]
  },
  {
   "cell_type": "code",
   "execution_count": 25,
   "metadata": {},
   "outputs": [
    {
     "data": {
      "text/html": [
       "<style>#sk-container-id-2 {color: black;background-color: white;}#sk-container-id-2 pre{padding: 0;}#sk-container-id-2 div.sk-toggleable {background-color: white;}#sk-container-id-2 label.sk-toggleable__label {cursor: pointer;display: block;width: 100%;margin-bottom: 0;padding: 0.3em;box-sizing: border-box;text-align: center;}#sk-container-id-2 label.sk-toggleable__label-arrow:before {content: \"▸\";float: left;margin-right: 0.25em;color: #696969;}#sk-container-id-2 label.sk-toggleable__label-arrow:hover:before {color: black;}#sk-container-id-2 div.sk-estimator:hover label.sk-toggleable__label-arrow:before {color: black;}#sk-container-id-2 div.sk-toggleable__content {max-height: 0;max-width: 0;overflow: hidden;text-align: left;background-color: #f0f8ff;}#sk-container-id-2 div.sk-toggleable__content pre {margin: 0.2em;color: black;border-radius: 0.25em;background-color: #f0f8ff;}#sk-container-id-2 input.sk-toggleable__control:checked~div.sk-toggleable__content {max-height: 200px;max-width: 100%;overflow: auto;}#sk-container-id-2 input.sk-toggleable__control:checked~label.sk-toggleable__label-arrow:before {content: \"▾\";}#sk-container-id-2 div.sk-estimator input.sk-toggleable__control:checked~label.sk-toggleable__label {background-color: #d4ebff;}#sk-container-id-2 div.sk-label input.sk-toggleable__control:checked~label.sk-toggleable__label {background-color: #d4ebff;}#sk-container-id-2 input.sk-hidden--visually {border: 0;clip: rect(1px 1px 1px 1px);clip: rect(1px, 1px, 1px, 1px);height: 1px;margin: -1px;overflow: hidden;padding: 0;position: absolute;width: 1px;}#sk-container-id-2 div.sk-estimator {font-family: monospace;background-color: #f0f8ff;border: 1px dotted black;border-radius: 0.25em;box-sizing: border-box;margin-bottom: 0.5em;}#sk-container-id-2 div.sk-estimator:hover {background-color: #d4ebff;}#sk-container-id-2 div.sk-parallel-item::after {content: \"\";width: 100%;border-bottom: 1px solid gray;flex-grow: 1;}#sk-container-id-2 div.sk-label:hover label.sk-toggleable__label {background-color: #d4ebff;}#sk-container-id-2 div.sk-serial::before {content: \"\";position: absolute;border-left: 1px solid gray;box-sizing: border-box;top: 0;bottom: 0;left: 50%;z-index: 0;}#sk-container-id-2 div.sk-serial {display: flex;flex-direction: column;align-items: center;background-color: white;padding-right: 0.2em;padding-left: 0.2em;position: relative;}#sk-container-id-2 div.sk-item {position: relative;z-index: 1;}#sk-container-id-2 div.sk-parallel {display: flex;align-items: stretch;justify-content: center;background-color: white;position: relative;}#sk-container-id-2 div.sk-item::before, #sk-container-id-2 div.sk-parallel-item::before {content: \"\";position: absolute;border-left: 1px solid gray;box-sizing: border-box;top: 0;bottom: 0;left: 50%;z-index: -1;}#sk-container-id-2 div.sk-parallel-item {display: flex;flex-direction: column;z-index: 1;position: relative;background-color: white;}#sk-container-id-2 div.sk-parallel-item:first-child::after {align-self: flex-end;width: 50%;}#sk-container-id-2 div.sk-parallel-item:last-child::after {align-self: flex-start;width: 50%;}#sk-container-id-2 div.sk-parallel-item:only-child::after {width: 0;}#sk-container-id-2 div.sk-dashed-wrapped {border: 1px dashed gray;margin: 0 0.4em 0.5em 0.4em;box-sizing: border-box;padding-bottom: 0.4em;background-color: white;}#sk-container-id-2 div.sk-label label {font-family: monospace;font-weight: bold;display: inline-block;line-height: 1.2em;}#sk-container-id-2 div.sk-label-container {text-align: center;}#sk-container-id-2 div.sk-container {/* jupyter's `normalize.less` sets `[hidden] { display: none; }` but bootstrap.min.css set `[hidden] { display: none !important; }` so we also need the `!important` here to be able to override the default hidden behavior on the sphinx rendered scikit-learn.org. See: https://github.com/scikit-learn/scikit-learn/issues/21755 */display: inline-block !important;position: relative;}#sk-container-id-2 div.sk-text-repr-fallback {display: none;}</style><div id=\"sk-container-id-2\" class=\"sk-top-container\"><div class=\"sk-text-repr-fallback\"><pre>MLPClassifier(activation=&#x27;logistic&#x27;, hidden_layer_sizes=(150, 100, 50),\n",
       "              max_iter=500, random_state=1)</pre><b>In a Jupyter environment, please rerun this cell to show the HTML representation or trust the notebook. <br />On GitHub, the HTML representation is unable to render, please try loading this page with nbviewer.org.</b></div><div class=\"sk-container\" hidden><div class=\"sk-item\"><div class=\"sk-estimator sk-toggleable\"><input class=\"sk-toggleable__control sk-hidden--visually\" id=\"sk-estimator-id-2\" type=\"checkbox\" checked><label for=\"sk-estimator-id-2\" class=\"sk-toggleable__label sk-toggleable__label-arrow\">MLPClassifier</label><div class=\"sk-toggleable__content\"><pre>MLPClassifier(activation=&#x27;logistic&#x27;, hidden_layer_sizes=(150, 100, 50),\n",
       "              max_iter=500, random_state=1)</pre></div></div></div></div></div>"
      ],
      "text/plain": [
       "MLPClassifier(activation='logistic', hidden_layer_sizes=(150, 100, 50),\n",
       "              max_iter=500, random_state=1)"
      ]
     },
     "execution_count": 25,
     "metadata": {},
     "output_type": "execute_result"
    }
   ],
   "source": [
    "classifier.fit(X_train, y_train)"
   ]
  },
  {
   "cell_type": "code",
   "execution_count": 26,
   "metadata": {},
   "outputs": [
    {
     "data": {
      "text/html": [
       "<style>#sk-container-id-3 {color: black;background-color: white;}#sk-container-id-3 pre{padding: 0;}#sk-container-id-3 div.sk-toggleable {background-color: white;}#sk-container-id-3 label.sk-toggleable__label {cursor: pointer;display: block;width: 100%;margin-bottom: 0;padding: 0.3em;box-sizing: border-box;text-align: center;}#sk-container-id-3 label.sk-toggleable__label-arrow:before {content: \"▸\";float: left;margin-right: 0.25em;color: #696969;}#sk-container-id-3 label.sk-toggleable__label-arrow:hover:before {color: black;}#sk-container-id-3 div.sk-estimator:hover label.sk-toggleable__label-arrow:before {color: black;}#sk-container-id-3 div.sk-toggleable__content {max-height: 0;max-width: 0;overflow: hidden;text-align: left;background-color: #f0f8ff;}#sk-container-id-3 div.sk-toggleable__content pre {margin: 0.2em;color: black;border-radius: 0.25em;background-color: #f0f8ff;}#sk-container-id-3 input.sk-toggleable__control:checked~div.sk-toggleable__content {max-height: 200px;max-width: 100%;overflow: auto;}#sk-container-id-3 input.sk-toggleable__control:checked~label.sk-toggleable__label-arrow:before {content: \"▾\";}#sk-container-id-3 div.sk-estimator input.sk-toggleable__control:checked~label.sk-toggleable__label {background-color: #d4ebff;}#sk-container-id-3 div.sk-label input.sk-toggleable__control:checked~label.sk-toggleable__label {background-color: #d4ebff;}#sk-container-id-3 input.sk-hidden--visually {border: 0;clip: rect(1px 1px 1px 1px);clip: rect(1px, 1px, 1px, 1px);height: 1px;margin: -1px;overflow: hidden;padding: 0;position: absolute;width: 1px;}#sk-container-id-3 div.sk-estimator {font-family: monospace;background-color: #f0f8ff;border: 1px dotted black;border-radius: 0.25em;box-sizing: border-box;margin-bottom: 0.5em;}#sk-container-id-3 div.sk-estimator:hover {background-color: #d4ebff;}#sk-container-id-3 div.sk-parallel-item::after {content: \"\";width: 100%;border-bottom: 1px solid gray;flex-grow: 1;}#sk-container-id-3 div.sk-label:hover label.sk-toggleable__label {background-color: #d4ebff;}#sk-container-id-3 div.sk-serial::before {content: \"\";position: absolute;border-left: 1px solid gray;box-sizing: border-box;top: 0;bottom: 0;left: 50%;z-index: 0;}#sk-container-id-3 div.sk-serial {display: flex;flex-direction: column;align-items: center;background-color: white;padding-right: 0.2em;padding-left: 0.2em;position: relative;}#sk-container-id-3 div.sk-item {position: relative;z-index: 1;}#sk-container-id-3 div.sk-parallel {display: flex;align-items: stretch;justify-content: center;background-color: white;position: relative;}#sk-container-id-3 div.sk-item::before, #sk-container-id-3 div.sk-parallel-item::before {content: \"\";position: absolute;border-left: 1px solid gray;box-sizing: border-box;top: 0;bottom: 0;left: 50%;z-index: -1;}#sk-container-id-3 div.sk-parallel-item {display: flex;flex-direction: column;z-index: 1;position: relative;background-color: white;}#sk-container-id-3 div.sk-parallel-item:first-child::after {align-self: flex-end;width: 50%;}#sk-container-id-3 div.sk-parallel-item:last-child::after {align-self: flex-start;width: 50%;}#sk-container-id-3 div.sk-parallel-item:only-child::after {width: 0;}#sk-container-id-3 div.sk-dashed-wrapped {border: 1px dashed gray;margin: 0 0.4em 0.5em 0.4em;box-sizing: border-box;padding-bottom: 0.4em;background-color: white;}#sk-container-id-3 div.sk-label label {font-family: monospace;font-weight: bold;display: inline-block;line-height: 1.2em;}#sk-container-id-3 div.sk-label-container {text-align: center;}#sk-container-id-3 div.sk-container {/* jupyter's `normalize.less` sets `[hidden] { display: none; }` but bootstrap.min.css set `[hidden] { display: none !important; }` so we also need the `!important` here to be able to override the default hidden behavior on the sphinx rendered scikit-learn.org. See: https://github.com/scikit-learn/scikit-learn/issues/21755 */display: inline-block !important;position: relative;}#sk-container-id-3 div.sk-text-repr-fallback {display: none;}</style><div id=\"sk-container-id-3\" class=\"sk-top-container\"><div class=\"sk-text-repr-fallback\"><pre>MLPClassifier(activation=&#x27;identity&#x27;, hidden_layer_sizes=1, max_iter=500,\n",
       "              random_state=1)</pre><b>In a Jupyter environment, please rerun this cell to show the HTML representation or trust the notebook. <br />On GitHub, the HTML representation is unable to render, please try loading this page with nbviewer.org.</b></div><div class=\"sk-container\" hidden><div class=\"sk-item\"><div class=\"sk-estimator sk-toggleable\"><input class=\"sk-toggleable__control sk-hidden--visually\" id=\"sk-estimator-id-3\" type=\"checkbox\" checked><label for=\"sk-estimator-id-3\" class=\"sk-toggleable__label sk-toggleable__label-arrow\">MLPClassifier</label><div class=\"sk-toggleable__content\"><pre>MLPClassifier(activation=&#x27;identity&#x27;, hidden_layer_sizes=1, max_iter=500,\n",
       "              random_state=1)</pre></div></div></div></div></div>"
      ],
      "text/plain": [
       "MLPClassifier(activation='identity', hidden_layer_sizes=1, max_iter=500,\n",
       "              random_state=1)"
      ]
     },
     "execution_count": 26,
     "metadata": {},
     "output_type": "execute_result"
    }
   ],
   "source": [
    "linear_classifier.fit(X_train, y_train)"
   ]
  },
  {
   "cell_type": "code",
   "execution_count": 27,
   "metadata": {},
   "outputs": [],
   "source": [
    "y_pred = classifier.predict(X_test)\n",
    "linear_y_pred =  linear_classifier.predict(X_test)"
   ]
  },
  {
   "cell_type": "code",
   "execution_count": 28,
   "metadata": {},
   "outputs": [
    {
     "data": {
      "text/plain": [
       "28453"
      ]
     },
     "execution_count": 28,
     "metadata": {},
     "output_type": "execute_result"
    }
   ],
   "source": [
    "np.sum(y_pred)"
   ]
  },
  {
   "cell_type": "code",
   "execution_count": 29,
   "metadata": {},
   "outputs": [
    {
     "data": {
      "text/plain": [
       "28966"
      ]
     },
     "execution_count": 29,
     "metadata": {},
     "output_type": "execute_result"
    }
   ],
   "source": [
    "np.sum(linear_y_pred)"
   ]
  },
  {
   "cell_type": "markdown",
   "metadata": {},
   "source": [
    "Evaluación con métricas básicas\n"
   ]
  },
  {
   "cell_type": "code",
   "execution_count": 30,
   "metadata": {},
   "outputs": [],
   "source": [
    "from sklearn.metrics import confusion_matrix"
   ]
  },
  {
   "cell_type": "code",
   "execution_count": 31,
   "metadata": {},
   "outputs": [
    {
     "name": "stdout",
     "output_type": "stream",
     "text": [
      "presencia estimada MLP: 28453\n",
      "presencia estimada Linear: 28966\n",
      "presencia observada 26602\n"
     ]
    }
   ],
   "source": [
    "#MLP\n",
    "presencia_estimada = np.sum((y_pred==1)*1)\n",
    "\n",
    "#Log Reg\n",
    "presencia_estimada_linear = np.sum((linear_y_pred==1)*1)\n",
    "\n",
    "#presencia observada: suelo urbano construido 2000-2018\n",
    "presencia_observada = np.sum((y_test==1)*1)\n",
    "\n",
    "print(\"presencia estimada MLP:\", presencia_estimada)\n",
    "\n",
    "print(\"presencia estimada Linear:\", presencia_estimada_linear)\n",
    "\n",
    "print(\"presencia observada\", presencia_observada)"
   ]
  },
  {
   "cell_type": "code",
   "execution_count": 32,
   "metadata": {},
   "outputs": [],
   "source": [
    "# ajustar umbral con presencia observada.\n",
    "# que umbral nos produce la presencia observada?"
   ]
  },
  {
   "cell_type": "code",
   "execution_count": 33,
   "metadata": {},
   "outputs": [],
   "source": [
    "cm = confusion_matrix(y_pred, y_test)\n",
    "\n",
    "cm_linear = confusion_matrix(linear_y_pred, y_test)"
   ]
  },
  {
   "cell_type": "code",
   "execution_count": 34,
   "metadata": {},
   "outputs": [
    {
     "name": "stdout",
     "output_type": "stream",
     "text": [
      "Accuracy of MLPClassifier :   0.8891268007738398\n",
      "Accuracy of Linear Regres :   0.8443304971732312\n"
     ]
    }
   ],
   "source": [
    "print(\"Accuracy of MLPClassifier : \",'', accuracy(cm))\n",
    "print(\"Accuracy of Linear Regres : \",'', accuracy(cm_linear))\n"
   ]
  },
  {
   "cell_type": "code",
   "execution_count": 35,
   "metadata": {},
   "outputs": [
    {
     "name": "stdout",
     "output_type": "stream",
     "text": [
      "[[22762  2026]\n",
      " [ 3877 24576]]\n",
      "[[21313  2962]\n",
      " [ 5326 23640]]\n"
     ]
    }
   ],
   "source": [
    "print(cm)\n",
    "print(cm_linear)"
   ]
  },
  {
   "cell_type": "code",
   "execution_count": 36,
   "metadata": {},
   "outputs": [
    {
     "data": {
      "text/plain": [
       "0.8891268007738398"
      ]
     },
     "execution_count": 36,
     "metadata": {},
     "output_type": "execute_result"
    }
   ],
   "source": [
    "from sklearn.metrics import accuracy_score\n",
    "\n",
    "accuracy_score(y_test, y_pred)"
   ]
  },
  {
   "cell_type": "code",
   "execution_count": 37,
   "metadata": {},
   "outputs": [
    {
     "data": {
      "text/plain": [
       "0.8891268007738398"
      ]
     },
     "execution_count": 37,
     "metadata": {},
     "output_type": "execute_result"
    }
   ],
   "source": [
    "classifier.score(X_test, y_test)"
   ]
  },
  {
   "cell_type": "markdown",
   "metadata": {},
   "source": [
    "Coeficiente de correlación de matthews"
   ]
  },
  {
   "cell_type": "code",
   "execution_count": 38,
   "metadata": {},
   "outputs": [],
   "source": [
    "from sklearn.metrics import matthews_corrcoef"
   ]
  },
  {
   "cell_type": "markdown",
   "metadata": {},
   "source": [
    "Curva ROC"
   ]
  },
  {
   "cell_type": "code",
   "execution_count": 39,
   "metadata": {},
   "outputs": [],
   "source": [
    "#Resultados probabilidad clasificador MLP\n",
    "y_pred_proba = classifier.predict_proba(X_test)[::,1]\n",
    "\n",
    "#Resultados probabilidad clasificador Reg Log\n",
    "linear_y_pred_proba = linear_classifier.predict_proba(X_test)[::,1]"
   ]
  },
  {
   "cell_type": "code",
   "execution_count": 40,
   "metadata": {},
   "outputs": [],
   "source": [
    "y_pred_proba_sorted = np.copy(y_pred_proba)\n",
    "linear_y_pred_proba_sorted = np.copy(linear_y_pred_proba)\n",
    "\n",
    "y_pred_proba_sorted.sort()\n",
    "linear_y_pred_proba_sorted.sort()"
   ]
  },
  {
   "cell_type": "code",
   "execution_count": 41,
   "metadata": {},
   "outputs": [
    {
     "data": {
      "text/plain": [
       "<matplotlib.lines.Line2D at 0x7f7e70096a90>"
      ]
     },
     "execution_count": 41,
     "metadata": {},
     "output_type": "execute_result"
    },
    {
     "data": {
      "image/png": "[encoded data removed]",
      "text/plain": [
       "<Figure size 432x288 with 1 Axes>"
      ]
     },
     "metadata": {
      "needs_background": "light"
     },
     "output_type": "display_data"
    }
   ],
   "source": [
    "plt.plot(y_pred_proba_sorted)\n",
    "plt.axvline(x = len(y_pred_proba_sorted)-presencia_observada)"
   ]
  },
  {
   "cell_type": "code",
   "execution_count": 42,
   "metadata": {},
   "outputs": [
    {
     "data": {
      "text/plain": [
       "<matplotlib.lines.Line2D at 0x7f7ed37e7be0>"
      ]
     },
     "execution_count": 42,
     "metadata": {},
     "output_type": "execute_result"
    },
    {
     "data": {
      "image/png": "[encoded data removed]",
      "text/plain": [
       "<Figure size 432x288 with 1 Axes>"
      ]
     },
     "metadata": {
      "needs_background": "light"
     },
     "output_type": "display_data"
    }
   ],
   "source": [
    "plt.plot(linear_y_pred_proba_sorted)\n",
    "plt.axvline(x = len(linear_y_pred_proba_sorted)-presencia_observada)"
   ]
  },
  {
   "cell_type": "code",
   "execution_count": 43,
   "metadata": {},
   "outputs": [
    {
     "data": {
      "text/plain": [
       "0.5920838884066928"
      ]
     },
     "execution_count": 43,
     "metadata": {},
     "output_type": "execute_result"
    }
   ],
   "source": [
    "#Queremos conocer el umbral que produce presencia observada\n",
    "\n",
    "th_ann = y_pred_proba_sorted[-presencia_observada-1]\n",
    "th_linear = linear_y_pred_proba_sorted[-presencia_observada-1]\n",
    "\n",
    "th_linear\n"
   ]
  },
  {
   "cell_type": "code",
   "execution_count": 44,
   "metadata": {},
   "outputs": [
    {
     "name": "stdout",
     "output_type": "stream",
     "text": [
      "TN: 23669\n",
      "FP: 2970\n",
      "FN: 2970\n",
      "TP: 23632\n",
      "fpr 0.1114906715717557\n",
      "tpr 0.8883542590782648\n"
     ]
    }
   ],
   "source": [
    "tn, fp, fn, tp = confusion_matrix(y_pred_proba>th_ann, y_test).ravel()\n",
    "\n",
    "fprp=fp/(fp+tn)\n",
    "tprp=tp/(tp+fn)\n",
    "\n",
    "print(\"TN:\", tn)\n",
    "print(\"FP:\", fp)\n",
    "print(\"FN:\", fn)\n",
    "print(\"TP:\", tp)\n",
    "print(\"fpr\",fprp)\n",
    "print(\"tpr\",tprp)"
   ]
  },
  {
   "cell_type": "code",
   "execution_count": 45,
   "metadata": {},
   "outputs": [
    {
     "name": "stdout",
     "output_type": "stream",
     "text": [
      "TN: 22536\n",
      "FP: 4103\n",
      "FN: 4103\n",
      "TP: 22499\n",
      "fpr 0.15402229813431434\n",
      "tpr 0.8457634764303436\n"
     ]
    }
   ],
   "source": [
    "tn, fp, fn, tp = confusion_matrix(linear_y_pred_proba>th_linear, y_test).ravel()\n",
    "\n",
    "lfprp=fp/(fp+tn)\n",
    "ltprp=tp/(tp+fn)\n",
    "\n",
    "print(\"TN:\", tn)\n",
    "print(\"FP:\", fp)\n",
    "print(\"FN:\", fn)\n",
    "print(\"TP:\", tp)\n",
    "print(\"fpr\",lfprp)\n",
    "print(\"tpr\",ltprp)"
   ]
  },
  {
   "cell_type": "code",
   "execution_count": null,
   "metadata": {},
   "outputs": [],
   "source": []
  },
  {
   "cell_type": "code",
   "execution_count": 46,
   "metadata": {},
   "outputs": [],
   "source": [
    "fpr, tpr, _ = metrics.roc_curve(y_test,  y_pred_proba)\n",
    "linear_fpr, linear_tpr, _ = metrics.roc_curve(y_test,  linear_y_pred_proba)"
   ]
  },
  {
   "cell_type": "code",
   "execution_count": 47,
   "metadata": {},
   "outputs": [],
   "source": [
    "import matplotlib.pyplot as plt\n",
    "plt.rcParams[\"figure.figsize\"] = (5,5)"
   ]
  },
  {
   "cell_type": "code",
   "execution_count": 48,
   "metadata": {},
   "outputs": [
    {
     "data": {
      "image/png": "[encoded data removed]",
      "text/plain": [
       "<Figure size 360x360 with 1 Axes>"
      ]
     },
     "metadata": {
      "needs_background": "light"
     },
     "output_type": "display_data"
    }
   ],
   "source": [
    "plt.plot(fpr,tpr)\n",
    "#plt.axvline(x = fprp, ymin=0, ymax=1, color = 'r', linestyle = 'dashed')\n",
    "#plt.axhline(y = tprp, color = 'r', linestyle = 'dashed')\n",
    "plt.scatter(fprp,tprp)\n",
    "\n",
    "\n",
    "plt.plot(linear_fpr,linear_tpr)\n",
    "plt.scatter(lfprp,ltprp)\n",
    "#plt.axvline(x = lfprp, ymin=0, ymax=1, color = 'g', linestyle = 'dashed')\n",
    "#plt.axhline(y = ltprp, color = 'g', linestyle = 'dashed')\n",
    "\n",
    "plt.ylabel('True Positive Rate')\n",
    "plt.xlabel('False Positive Rate')\n",
    "\n",
    "plt.scatter(lfprp,ltprp) \n",
    "\n",
    "plt.grid()\n",
    "plt.show()"
   ]
  },
  {
   "cell_type": "code",
   "execution_count": 49,
   "metadata": {},
   "outputs": [
    {
     "data": {
      "image/png": "[encoded data removed]",
      "text/plain": [
       "<Figure size 360x360 with 1 Axes>"
      ]
     },
     "metadata": {
      "needs_background": "light"
     },
     "output_type": "display_data"
    }
   ],
   "source": [
    "plt.plot(fpr,tpr)\n",
    "plt.ylabel('True Positive Rate')\n",
    "plt.xlabel('False Positive Rate')\n",
    "plt.axvline(x = fprp, ymin=0, ymax=1, color = 'r', linestyle = 'dashed')\n",
    "plt.axhline(y = tprp, color = 'r', linestyle = 'dashed')\n",
    "plt.grid()\n",
    "plt.show()"
   ]
  },
  {
   "cell_type": "code",
   "execution_count": null,
   "metadata": {},
   "outputs": [],
   "source": []
  },
  {
   "cell_type": "code",
   "execution_count": 50,
   "metadata": {},
   "outputs": [],
   "source": [
    "fpr, tpr, _ = metrics.roc_curve(y_test,  linear_y_pred_proba)"
   ]
  },
  {
   "cell_type": "code",
   "execution_count": 51,
   "metadata": {},
   "outputs": [
    {
     "data": {
      "text/plain": [
       "[<matplotlib.lines.Line2D at 0x7f7eb0c79250>]"
      ]
     },
     "execution_count": 51,
     "metadata": {},
     "output_type": "execute_result"
    },
    {
     "data": {
      "image/png": "[encoded data removed]",
      "text/plain": [
       "<Figure size 360x360 with 1 Axes>"
      ]
     },
     "metadata": {
      "needs_background": "light"
     },
     "output_type": "display_data"
    }
   ],
   "source": [
    "plt.plot(fpr,tpr)"
   ]
  },
  {
   "cell_type": "code",
   "execution_count": 52,
   "metadata": {},
   "outputs": [
    {
     "data": {
      "text/plain": [
       "0.9225936971445331"
      ]
     },
     "execution_count": 52,
     "metadata": {},
     "output_type": "execute_result"
    }
   ],
   "source": [
    "metrics.auc(fpr, tpr)"
   ]
  },
  {
   "cell_type": "code",
   "execution_count": 53,
   "metadata": {},
   "outputs": [
    {
     "data": {
      "text/plain": [
       "28453"
      ]
     },
     "execution_count": 53,
     "metadata": {},
     "output_type": "execute_result"
    }
   ],
   "source": [
    "np.sum(y_pred_proba>0.5)"
   ]
  },
  {
   "cell_type": "code",
   "execution_count": null,
   "metadata": {},
   "outputs": [],
   "source": []
  },
  {
   "cell_type": "code",
   "execution_count": 54,
   "metadata": {},
   "outputs": [
    {
     "data": {
      "text/plain": [
       "26602"
      ]
     },
     "execution_count": 54,
     "metadata": {},
     "output_type": "execute_result"
    }
   ],
   "source": [
    "#presencia\n",
    "y_test.sum()\n",
    "\n"
   ]
  },
  {
   "cell_type": "code",
   "execution_count": 55,
   "metadata": {},
   "outputs": [
    {
     "data": {
      "text/plain": [
       "array([0.66992328, 0.96956536, 0.95179068, ..., 0.82410648, 0.95201479,\n",
       "       0.00364708])"
      ]
     },
     "execution_count": 55,
     "metadata": {},
     "output_type": "execute_result"
    }
   ],
   "source": [
    "y_pred_proba"
   ]
  },
  {
   "cell_type": "markdown",
   "metadata": {},
   "source": [
    "#### Predicción con el modelo ya entrenado"
   ]
  },
  {
   "cell_type": "markdown",
   "metadata": {},
   "source": [
    "Lectura y preprocesamiento del datset"
   ]
  },
  {
   "cell_type": "code",
   "execution_count": 56,
   "metadata": {},
   "outputs": [],
   "source": [
    "data2018 = pd.read_csv(\"2018.csv\",names=header)"
   ]
  },
  {
   "cell_type": "code",
   "execution_count": 57,
   "metadata": {},
   "outputs": [
    {
     "data": {
      "text/html": [
       "<div>\n",
       "<style scoped>\n",
       "    .dataframe tbody tr th:only-of-type {\n",
       "        vertical-align: middle;\n",
       "    }\n",
       "\n",
       "    .dataframe tbody tr th {\n",
       "        vertical-align: top;\n",
       "    }\n",
       "\n",
       "    .dataframe thead th {\n",
       "        text-align: right;\n",
       "    }\n",
       "</style>\n",
       "<table border=\"1\" class=\"dataframe\">\n",
       "  <thead>\n",
       "    <tr style=\"text-align: right;\">\n",
       "      <th></th>\n",
       "      <th>Lat</th>\n",
       "      <th>Lon</th>\n",
       "      <th>Urbano</th>\n",
       "      <th>Cuerpos_agua</th>\n",
       "      <th>Cultivo_riego</th>\n",
       "      <th>Cultivo Temporal</th>\n",
       "      <th>Past&amp;Mat</th>\n",
       "      <th>Suelo_desnudo</th>\n",
       "      <th>Vegetacion</th>\n",
       "      <th>Pendiente</th>\n",
       "      <th>Dist_ANPS</th>\n",
       "      <th>Dist_agua</th>\n",
       "      <th>Dist_veget</th>\n",
       "      <th>Dist_urb</th>\n",
       "      <th>Dist_centro</th>\n",
       "      <th>Dist_carreteras</th>\n",
       "      <th>Costo</th>\n",
       "      <th>No_Urb</th>\n",
       "      <th>Difer</th>\n",
       "    </tr>\n",
       "  </thead>\n",
       "  <tbody>\n",
       "    <tr>\n",
       "      <th>0</th>\n",
       "      <td>260628.478257</td>\n",
       "      <td>2.197830e+06</td>\n",
       "      <td>0</td>\n",
       "      <td>1</td>\n",
       "      <td>0</td>\n",
       "      <td>0</td>\n",
       "      <td>0</td>\n",
       "      <td>0</td>\n",
       "      <td>0</td>\n",
       "      <td>6.054499</td>\n",
       "      <td>19979.177361</td>\n",
       "      <td>0.000000</td>\n",
       "      <td>899.990695</td>\n",
       "      <td>3275.311829</td>\n",
       "      <td>20135.641180</td>\n",
       "      <td>1332.196444</td>\n",
       "      <td>48.608915</td>\n",
       "      <td>1</td>\n",
       "      <td>NaN</td>\n",
       "    </tr>\n",
       "    <tr>\n",
       "      <th>1</th>\n",
       "      <td>260658.475127</td>\n",
       "      <td>2.197830e+06</td>\n",
       "      <td>0</td>\n",
       "      <td>1</td>\n",
       "      <td>0</td>\n",
       "      <td>0</td>\n",
       "      <td>0</td>\n",
       "      <td>0</td>\n",
       "      <td>0</td>\n",
       "      <td>0.000000</td>\n",
       "      <td>19959.328482</td>\n",
       "      <td>0.000000</td>\n",
       "      <td>924.161269</td>\n",
       "      <td>3288.061757</td>\n",
       "      <td>20121.447884</td>\n",
       "      <td>1307.998737</td>\n",
       "      <td>48.248915</td>\n",
       "      <td>1</td>\n",
       "      <td>NaN</td>\n",
       "    </tr>\n",
       "    <tr>\n",
       "      <th>2</th>\n",
       "      <td>260688.471998</td>\n",
       "      <td>2.197830e+06</td>\n",
       "      <td>0</td>\n",
       "      <td>1</td>\n",
       "      <td>0</td>\n",
       "      <td>0</td>\n",
       "      <td>0</td>\n",
       "      <td>0</td>\n",
       "      <td>0</td>\n",
       "      <td>0.000000</td>\n",
       "      <td>19939.504971</td>\n",
       "      <td>0.000000</td>\n",
       "      <td>948.664575</td>\n",
       "      <td>3301.035032</td>\n",
       "      <td>20107.289320</td>\n",
       "      <td>1284.045814</td>\n",
       "      <td>47.888915</td>\n",
       "      <td>1</td>\n",
       "      <td>NaN</td>\n",
       "    </tr>\n",
       "    <tr>\n",
       "      <th>3</th>\n",
       "      <td>260598.481386</td>\n",
       "      <td>2.197800e+06</td>\n",
       "      <td>0</td>\n",
       "      <td>1</td>\n",
       "      <td>0</td>\n",
       "      <td>0</td>\n",
       "      <td>0</td>\n",
       "      <td>0</td>\n",
       "      <td>0</td>\n",
       "      <td>10.219378</td>\n",
       "      <td>19976.598333</td>\n",
       "      <td>0.000000</td>\n",
       "      <td>858.010608</td>\n",
       "      <td>3235.495185</td>\n",
       "      <td>20123.468711</td>\n",
       "      <td>1339.596682</td>\n",
       "      <td>48.695535</td>\n",
       "      <td>1</td>\n",
       "      <td>NaN</td>\n",
       "    </tr>\n",
       "    <tr>\n",
       "      <th>4</th>\n",
       "      <td>260628.478257</td>\n",
       "      <td>2.197800e+06</td>\n",
       "      <td>0</td>\n",
       "      <td>1</td>\n",
       "      <td>0</td>\n",
       "      <td>0</td>\n",
       "      <td>0</td>\n",
       "      <td>0</td>\n",
       "      <td>0</td>\n",
       "      <td>0.000000</td>\n",
       "      <td>19956.701801</td>\n",
       "      <td>0.000000</td>\n",
       "      <td>882.311384</td>\n",
       "      <td>3248.124382</td>\n",
       "      <td>20109.222078</td>\n",
       "      <td>1314.850934</td>\n",
       "      <td>48.358586</td>\n",
       "      <td>1</td>\n",
       "      <td>NaN</td>\n",
       "    </tr>\n",
       "    <tr>\n",
       "      <th>...</th>\n",
       "      <td>...</td>\n",
       "      <td>...</td>\n",
       "      <td>...</td>\n",
       "      <td>...</td>\n",
       "      <td>...</td>\n",
       "      <td>...</td>\n",
       "      <td>...</td>\n",
       "      <td>...</td>\n",
       "      <td>...</td>\n",
       "      <td>...</td>\n",
       "      <td>...</td>\n",
       "      <td>...</td>\n",
       "      <td>...</td>\n",
       "      <td>...</td>\n",
       "      <td>...</td>\n",
       "      <td>...</td>\n",
       "      <td>...</td>\n",
       "      <td>...</td>\n",
       "      <td>...</td>\n",
       "    </tr>\n",
       "    <tr>\n",
       "      <th>1325651</th>\n",
       "      <td>271007.395459</td>\n",
       "      <td>2.151833e+06</td>\n",
       "      <td>0</td>\n",
       "      <td>0</td>\n",
       "      <td>0</td>\n",
       "      <td>0</td>\n",
       "      <td>1</td>\n",
       "      <td>0</td>\n",
       "      <td>0</td>\n",
       "      <td>12.604383</td>\n",
       "      <td>7326.598778</td>\n",
       "      <td>7502.007921</td>\n",
       "      <td>2430.380807</td>\n",
       "      <td>14743.328712</td>\n",
       "      <td>28276.905407</td>\n",
       "      <td>0.000000</td>\n",
       "      <td>96.129337</td>\n",
       "      <td>0</td>\n",
       "      <td>NaN</td>\n",
       "    </tr>\n",
       "    <tr>\n",
       "      <th>1325652</th>\n",
       "      <td>270947.401717</td>\n",
       "      <td>2.151803e+06</td>\n",
       "      <td>0</td>\n",
       "      <td>0</td>\n",
       "      <td>0</td>\n",
       "      <td>0</td>\n",
       "      <td>1</td>\n",
       "      <td>0</td>\n",
       "      <td>0</td>\n",
       "      <td>8.293805</td>\n",
       "      <td>7362.572123</td>\n",
       "      <td>7491.638443</td>\n",
       "      <td>2461.116840</td>\n",
       "      <td>14771.118181</td>\n",
       "      <td>28305.180293</td>\n",
       "      <td>59.993741</td>\n",
       "      <td>96.414020</td>\n",
       "      <td>0</td>\n",
       "      <td>NaN</td>\n",
       "    </tr>\n",
       "    <tr>\n",
       "      <th>1325653</th>\n",
       "      <td>270977.398588</td>\n",
       "      <td>2.151803e+06</td>\n",
       "      <td>0</td>\n",
       "      <td>0</td>\n",
       "      <td>0</td>\n",
       "      <td>0</td>\n",
       "      <td>1</td>\n",
       "      <td>0</td>\n",
       "      <td>0</td>\n",
       "      <td>15.909876</td>\n",
       "      <td>7359.454996</td>\n",
       "      <td>7508.974118</td>\n",
       "      <td>2460.568362</td>\n",
       "      <td>14772.184190</td>\n",
       "      <td>28306.022707</td>\n",
       "      <td>29.996871</td>\n",
       "      <td>96.376848</td>\n",
       "      <td>0</td>\n",
       "      <td>NaN</td>\n",
       "    </tr>\n",
       "    <tr>\n",
       "      <th>1325654</th>\n",
       "      <td>271007.395459</td>\n",
       "      <td>2.151803e+06</td>\n",
       "      <td>0</td>\n",
       "      <td>0</td>\n",
       "      <td>0</td>\n",
       "      <td>0</td>\n",
       "      <td>1</td>\n",
       "      <td>0</td>\n",
       "      <td>0</td>\n",
       "      <td>20.260141</td>\n",
       "      <td>7356.458865</td>\n",
       "      <td>7526.389418</td>\n",
       "      <td>2460.385508</td>\n",
       "      <td>14773.311031</td>\n",
       "      <td>28306.896883</td>\n",
       "      <td>0.000000</td>\n",
       "      <td>96.174348</td>\n",
       "      <td>0</td>\n",
       "      <td>NaN</td>\n",
       "    </tr>\n",
       "    <tr>\n",
       "      <th>1325655</th>\n",
       "      <td>270977.398588</td>\n",
       "      <td>2.151773e+06</td>\n",
       "      <td>0</td>\n",
       "      <td>0</td>\n",
       "      <td>0</td>\n",
       "      <td>0</td>\n",
       "      <td>1</td>\n",
       "      <td>0</td>\n",
       "      <td>0</td>\n",
       "      <td>15.909876</td>\n",
       "      <td>7389.304148</td>\n",
       "      <td>7533.452574</td>\n",
       "      <td>2490.570860</td>\n",
       "      <td>14802.168882</td>\n",
       "      <td>28336.015137</td>\n",
       "      <td>42.427519</td>\n",
       "      <td>96.460764</td>\n",
       "      <td>0</td>\n",
       "      <td>NaN</td>\n",
       "    </tr>\n",
       "  </tbody>\n",
       "</table>\n",
       "<p>1325656 rows × 19 columns</p>\n",
       "</div>"
      ],
      "text/plain": [
       "                   Lat           Lon  Urbano  Cuerpos_agua  Cultivo_riego  \\\n",
       "0        260628.478257  2.197830e+06       0             1              0   \n",
       "1        260658.475127  2.197830e+06       0             1              0   \n",
       "2        260688.471998  2.197830e+06       0             1              0   \n",
       "3        260598.481386  2.197800e+06       0             1              0   \n",
       "4        260628.478257  2.197800e+06       0             1              0   \n",
       "...                ...           ...     ...           ...            ...   \n",
       "1325651  271007.395459  2.151833e+06       0             0              0   \n",
       "1325652  270947.401717  2.151803e+06       0             0              0   \n",
       "1325653  270977.398588  2.151803e+06       0             0              0   \n",
       "1325654  271007.395459  2.151803e+06       0             0              0   \n",
       "1325655  270977.398588  2.151773e+06       0             0              0   \n",
       "\n",
       "         Cultivo Temporal  Past&Mat  Suelo_desnudo  Vegetacion  Pendiente  \\\n",
       "0                       0         0              0           0   6.054499   \n",
       "1                       0         0              0           0   0.000000   \n",
       "2                       0         0              0           0   0.000000   \n",
       "3                       0         0              0           0  10.219378   \n",
       "4                       0         0              0           0   0.000000   \n",
       "...                   ...       ...            ...         ...        ...   \n",
       "1325651                 0         1              0           0  12.604383   \n",
       "1325652                 0         1              0           0   8.293805   \n",
       "1325653                 0         1              0           0  15.909876   \n",
       "1325654                 0         1              0           0  20.260141   \n",
       "1325655                 0         1              0           0  15.909876   \n",
       "\n",
       "            Dist_ANPS    Dist_agua   Dist_veget      Dist_urb   Dist_centro  \\\n",
       "0        19979.177361     0.000000   899.990695   3275.311829  20135.641180   \n",
       "1        19959.328482     0.000000   924.161269   3288.061757  20121.447884   \n",
       "2        19939.504971     0.000000   948.664575   3301.035032  20107.289320   \n",
       "3        19976.598333     0.000000   858.010608   3235.495185  20123.468711   \n",
       "4        19956.701801     0.000000   882.311384   3248.124382  20109.222078   \n",
       "...               ...          ...          ...           ...           ...   \n",
       "1325651   7326.598778  7502.007921  2430.380807  14743.328712  28276.905407   \n",
       "1325652   7362.572123  7491.638443  2461.116840  14771.118181  28305.180293   \n",
       "1325653   7359.454996  7508.974118  2460.568362  14772.184190  28306.022707   \n",
       "1325654   7356.458865  7526.389418  2460.385508  14773.311031  28306.896883   \n",
       "1325655   7389.304148  7533.452574  2490.570860  14802.168882  28336.015137   \n",
       "\n",
       "         Dist_carreteras      Costo  No_Urb  Difer  \n",
       "0            1332.196444  48.608915       1    NaN  \n",
       "1            1307.998737  48.248915       1    NaN  \n",
       "2            1284.045814  47.888915       1    NaN  \n",
       "3            1339.596682  48.695535       1    NaN  \n",
       "4            1314.850934  48.358586       1    NaN  \n",
       "...                  ...        ...     ...    ...  \n",
       "1325651         0.000000  96.129337       0    NaN  \n",
       "1325652        59.993741  96.414020       0    NaN  \n",
       "1325653        29.996871  96.376848       0    NaN  \n",
       "1325654         0.000000  96.174348       0    NaN  \n",
       "1325655        42.427519  96.460764       0    NaN  \n",
       "\n",
       "[1325656 rows x 19 columns]"
      ]
     },
     "execution_count": 57,
     "metadata": {},
     "output_type": "execute_result"
    }
   ],
   "source": [
    "data2018"
   ]
  },
  {
   "cell_type": "code",
   "execution_count": 58,
   "metadata": {},
   "outputs": [],
   "source": [
    "data_urb_2018=data2018[data2018[\"No_Urb\"]==0]"
   ]
  },
  {
   "cell_type": "code",
   "execution_count": 59,
   "metadata": {},
   "outputs": [
    {
     "data": {
      "text/html": [
       "<div>\n",
       "<style scoped>\n",
       "    .dataframe tbody tr th:only-of-type {\n",
       "        vertical-align: middle;\n",
       "    }\n",
       "\n",
       "    .dataframe tbody tr th {\n",
       "        vertical-align: top;\n",
       "    }\n",
       "\n",
       "    .dataframe thead th {\n",
       "        text-align: right;\n",
       "    }\n",
       "</style>\n",
       "<table border=\"1\" class=\"dataframe\">\n",
       "  <thead>\n",
       "    <tr style=\"text-align: right;\">\n",
       "      <th></th>\n",
       "      <th>Lat</th>\n",
       "      <th>Lon</th>\n",
       "      <th>Urbano</th>\n",
       "      <th>Cuerpos_agua</th>\n",
       "      <th>Cultivo_riego</th>\n",
       "      <th>Cultivo Temporal</th>\n",
       "      <th>Past&amp;Mat</th>\n",
       "      <th>Suelo_desnudo</th>\n",
       "      <th>Vegetacion</th>\n",
       "      <th>Pendiente</th>\n",
       "      <th>Dist_ANPS</th>\n",
       "      <th>Dist_agua</th>\n",
       "      <th>Dist_veget</th>\n",
       "      <th>Dist_urb</th>\n",
       "      <th>Dist_centro</th>\n",
       "      <th>Dist_carreteras</th>\n",
       "      <th>Costo</th>\n",
       "      <th>No_Urb</th>\n",
       "      <th>Difer</th>\n",
       "    </tr>\n",
       "  </thead>\n",
       "  <tbody>\n",
       "    <tr>\n",
       "      <th>9</th>\n",
       "      <td>261048.434444</td>\n",
       "      <td>2.197800e+06</td>\n",
       "      <td>0</td>\n",
       "      <td>0</td>\n",
       "      <td>0</td>\n",
       "      <td>0</td>\n",
       "      <td>1</td>\n",
       "      <td>0</td>\n",
       "      <td>0</td>\n",
       "      <td>6.379370</td>\n",
       "      <td>19680.839119</td>\n",
       "      <td>212.111013</td>\n",
       "      <td>1248.803589</td>\n",
       "      <td>3447.554694</td>\n",
       "      <td>19913.443890</td>\n",
       "      <td>997.266806</td>\n",
       "      <td>44.300857</td>\n",
       "      <td>0</td>\n",
       "      <td>NaN</td>\n",
       "    </tr>\n",
       "    <tr>\n",
       "      <th>20</th>\n",
       "      <td>260868.453221</td>\n",
       "      <td>2.197770e+06</td>\n",
       "      <td>0</td>\n",
       "      <td>0</td>\n",
       "      <td>0</td>\n",
       "      <td>0</td>\n",
       "      <td>1</td>\n",
       "      <td>0</td>\n",
       "      <td>0</td>\n",
       "      <td>4.520227</td>\n",
       "      <td>19775.810448</td>\n",
       "      <td>29.996871</td>\n",
       "      <td>1073.256704</td>\n",
       "      <td>3330.856765</td>\n",
       "      <td>19969.945500</td>\n",
       "      <td>1106.352244</td>\n",
       "      <td>45.742605</td>\n",
       "      <td>0</td>\n",
       "      <td>NaN</td>\n",
       "    </tr>\n",
       "    <tr>\n",
       "      <th>21</th>\n",
       "      <td>260898.450092</td>\n",
       "      <td>2.197770e+06</td>\n",
       "      <td>0</td>\n",
       "      <td>0</td>\n",
       "      <td>0</td>\n",
       "      <td>0</td>\n",
       "      <td>1</td>\n",
       "      <td>0</td>\n",
       "      <td>0</td>\n",
       "      <td>0.000000</td>\n",
       "      <td>19756.121616</td>\n",
       "      <td>59.993741</td>\n",
       "      <td>1100.167146</td>\n",
       "      <td>3345.547238</td>\n",
       "      <td>19955.995077</td>\n",
       "      <td>1083.755330</td>\n",
       "      <td>45.405656</td>\n",
       "      <td>0</td>\n",
       "      <td>NaN</td>\n",
       "    </tr>\n",
       "    <tr>\n",
       "      <th>22</th>\n",
       "      <td>260928.446962</td>\n",
       "      <td>2.197770e+06</td>\n",
       "      <td>0</td>\n",
       "      <td>0</td>\n",
       "      <td>0</td>\n",
       "      <td>0</td>\n",
       "      <td>1</td>\n",
       "      <td>0</td>\n",
       "      <td>0</td>\n",
       "      <td>6.379370</td>\n",
       "      <td>19736.458733</td>\n",
       "      <td>89.990612</td>\n",
       "      <td>1127.233414</td>\n",
       "      <td>3360.441263</td>\n",
       "      <td>19942.080016</td>\n",
       "      <td>1061.525113</td>\n",
       "      <td>45.146802</td>\n",
       "      <td>0</td>\n",
       "      <td>NaN</td>\n",
       "    </tr>\n",
       "    <tr>\n",
       "      <th>23</th>\n",
       "      <td>260958.443833</td>\n",
       "      <td>2.197770e+06</td>\n",
       "      <td>0</td>\n",
       "      <td>0</td>\n",
       "      <td>0</td>\n",
       "      <td>0</td>\n",
       "      <td>1</td>\n",
       "      <td>0</td>\n",
       "      <td>0</td>\n",
       "      <td>5.710593</td>\n",
       "      <td>19716.821879</td>\n",
       "      <td>119.987482</td>\n",
       "      <td>1154.444548</td>\n",
       "      <td>3375.536145</td>\n",
       "      <td>19928.200391</td>\n",
       "      <td>1039.685116</td>\n",
       "      <td>44.786802</td>\n",
       "      <td>0</td>\n",
       "      <td>NaN</td>\n",
       "    </tr>\n",
       "    <tr>\n",
       "      <th>...</th>\n",
       "      <td>...</td>\n",
       "      <td>...</td>\n",
       "      <td>...</td>\n",
       "      <td>...</td>\n",
       "      <td>...</td>\n",
       "      <td>...</td>\n",
       "      <td>...</td>\n",
       "      <td>...</td>\n",
       "      <td>...</td>\n",
       "      <td>...</td>\n",
       "      <td>...</td>\n",
       "      <td>...</td>\n",
       "      <td>...</td>\n",
       "      <td>...</td>\n",
       "      <td>...</td>\n",
       "      <td>...</td>\n",
       "      <td>...</td>\n",
       "      <td>...</td>\n",
       "      <td>...</td>\n",
       "    </tr>\n",
       "    <tr>\n",
       "      <th>1325651</th>\n",
       "      <td>271007.395459</td>\n",
       "      <td>2.151833e+06</td>\n",
       "      <td>0</td>\n",
       "      <td>0</td>\n",
       "      <td>0</td>\n",
       "      <td>0</td>\n",
       "      <td>1</td>\n",
       "      <td>0</td>\n",
       "      <td>0</td>\n",
       "      <td>12.604383</td>\n",
       "      <td>7326.598778</td>\n",
       "      <td>7502.007921</td>\n",
       "      <td>2430.380807</td>\n",
       "      <td>14743.328712</td>\n",
       "      <td>28276.905407</td>\n",
       "      <td>0.000000</td>\n",
       "      <td>96.129337</td>\n",
       "      <td>0</td>\n",
       "      <td>NaN</td>\n",
       "    </tr>\n",
       "    <tr>\n",
       "      <th>1325652</th>\n",
       "      <td>270947.401717</td>\n",
       "      <td>2.151803e+06</td>\n",
       "      <td>0</td>\n",
       "      <td>0</td>\n",
       "      <td>0</td>\n",
       "      <td>0</td>\n",
       "      <td>1</td>\n",
       "      <td>0</td>\n",
       "      <td>0</td>\n",
       "      <td>8.293805</td>\n",
       "      <td>7362.572123</td>\n",
       "      <td>7491.638443</td>\n",
       "      <td>2461.116840</td>\n",
       "      <td>14771.118181</td>\n",
       "      <td>28305.180293</td>\n",
       "      <td>59.993741</td>\n",
       "      <td>96.414020</td>\n",
       "      <td>0</td>\n",
       "      <td>NaN</td>\n",
       "    </tr>\n",
       "    <tr>\n",
       "      <th>1325653</th>\n",
       "      <td>270977.398588</td>\n",
       "      <td>2.151803e+06</td>\n",
       "      <td>0</td>\n",
       "      <td>0</td>\n",
       "      <td>0</td>\n",
       "      <td>0</td>\n",
       "      <td>1</td>\n",
       "      <td>0</td>\n",
       "      <td>0</td>\n",
       "      <td>15.909876</td>\n",
       "      <td>7359.454996</td>\n",
       "      <td>7508.974118</td>\n",
       "      <td>2460.568362</td>\n",
       "      <td>14772.184190</td>\n",
       "      <td>28306.022707</td>\n",
       "      <td>29.996871</td>\n",
       "      <td>96.376848</td>\n",
       "      <td>0</td>\n",
       "      <td>NaN</td>\n",
       "    </tr>\n",
       "    <tr>\n",
       "      <th>1325654</th>\n",
       "      <td>271007.395459</td>\n",
       "      <td>2.151803e+06</td>\n",
       "      <td>0</td>\n",
       "      <td>0</td>\n",
       "      <td>0</td>\n",
       "      <td>0</td>\n",
       "      <td>1</td>\n",
       "      <td>0</td>\n",
       "      <td>0</td>\n",
       "      <td>20.260141</td>\n",
       "      <td>7356.458865</td>\n",
       "      <td>7526.389418</td>\n",
       "      <td>2460.385508</td>\n",
       "      <td>14773.311031</td>\n",
       "      <td>28306.896883</td>\n",
       "      <td>0.000000</td>\n",
       "      <td>96.174348</td>\n",
       "      <td>0</td>\n",
       "      <td>NaN</td>\n",
       "    </tr>\n",
       "    <tr>\n",
       "      <th>1325655</th>\n",
       "      <td>270977.398588</td>\n",
       "      <td>2.151773e+06</td>\n",
       "      <td>0</td>\n",
       "      <td>0</td>\n",
       "      <td>0</td>\n",
       "      <td>0</td>\n",
       "      <td>1</td>\n",
       "      <td>0</td>\n",
       "      <td>0</td>\n",
       "      <td>15.909876</td>\n",
       "      <td>7389.304148</td>\n",
       "      <td>7533.452574</td>\n",
       "      <td>2490.570860</td>\n",
       "      <td>14802.168882</td>\n",
       "      <td>28336.015137</td>\n",
       "      <td>42.427519</td>\n",
       "      <td>96.460764</td>\n",
       "      <td>0</td>\n",
       "      <td>NaN</td>\n",
       "    </tr>\n",
       "  </tbody>\n",
       "</table>\n",
       "<p>1002887 rows × 19 columns</p>\n",
       "</div>"
      ],
      "text/plain": [
       "                   Lat           Lon  Urbano  Cuerpos_agua  Cultivo_riego  \\\n",
       "9        261048.434444  2.197800e+06       0             0              0   \n",
       "20       260868.453221  2.197770e+06       0             0              0   \n",
       "21       260898.450092  2.197770e+06       0             0              0   \n",
       "22       260928.446962  2.197770e+06       0             0              0   \n",
       "23       260958.443833  2.197770e+06       0             0              0   \n",
       "...                ...           ...     ...           ...            ...   \n",
       "1325651  271007.395459  2.151833e+06       0             0              0   \n",
       "1325652  270947.401717  2.151803e+06       0             0              0   \n",
       "1325653  270977.398588  2.151803e+06       0             0              0   \n",
       "1325654  271007.395459  2.151803e+06       0             0              0   \n",
       "1325655  270977.398588  2.151773e+06       0             0              0   \n",
       "\n",
       "         Cultivo Temporal  Past&Mat  Suelo_desnudo  Vegetacion  Pendiente  \\\n",
       "9                       0         1              0           0   6.379370   \n",
       "20                      0         1              0           0   4.520227   \n",
       "21                      0         1              0           0   0.000000   \n",
       "22                      0         1              0           0   6.379370   \n",
       "23                      0         1              0           0   5.710593   \n",
       "...                   ...       ...            ...         ...        ...   \n",
       "1325651                 0         1              0           0  12.604383   \n",
       "1325652                 0         1              0           0   8.293805   \n",
       "1325653                 0         1              0           0  15.909876   \n",
       "1325654                 0         1              0           0  20.260141   \n",
       "1325655                 0         1              0           0  15.909876   \n",
       "\n",
       "            Dist_ANPS    Dist_agua   Dist_veget      Dist_urb   Dist_centro  \\\n",
       "9        19680.839119   212.111013  1248.803589   3447.554694  19913.443890   \n",
       "20       19775.810448    29.996871  1073.256704   3330.856765  19969.945500   \n",
       "21       19756.121616    59.993741  1100.167146   3345.547238  19955.995077   \n",
       "22       19736.458733    89.990612  1127.233414   3360.441263  19942.080016   \n",
       "23       19716.821879   119.987482  1154.444548   3375.536145  19928.200391   \n",
       "...               ...          ...          ...           ...           ...   \n",
       "1325651   7326.598778  7502.007921  2430.380807  14743.328712  28276.905407   \n",
       "1325652   7362.572123  7491.638443  2461.116840  14771.118181  28305.180293   \n",
       "1325653   7359.454996  7508.974118  2460.568362  14772.184190  28306.022707   \n",
       "1325654   7356.458865  7526.389418  2460.385508  14773.311031  28306.896883   \n",
       "1325655   7389.304148  7533.452574  2490.570860  14802.168882  28336.015137   \n",
       "\n",
       "         Dist_carreteras      Costo  No_Urb  Difer  \n",
       "9             997.266806  44.300857       0    NaN  \n",
       "20           1106.352244  45.742605       0    NaN  \n",
       "21           1083.755330  45.405656       0    NaN  \n",
       "22           1061.525113  45.146802       0    NaN  \n",
       "23           1039.685116  44.786802       0    NaN  \n",
       "...                  ...        ...     ...    ...  \n",
       "1325651         0.000000  96.129337       0    NaN  \n",
       "1325652        59.993741  96.414020       0    NaN  \n",
       "1325653        29.996871  96.376848       0    NaN  \n",
       "1325654         0.000000  96.174348       0    NaN  \n",
       "1325655        42.427519  96.460764       0    NaN  \n",
       "\n",
       "[1002887 rows x 19 columns]"
      ]
     },
     "execution_count": 59,
     "metadata": {},
     "output_type": "execute_result"
    }
   ],
   "source": [
    "data_urb_2018"
   ]
  },
  {
   "cell_type": "code",
   "execution_count": 60,
   "metadata": {},
   "outputs": [
    {
     "name": "stderr",
     "output_type": "stream",
     "text": [
      "/var/folders/k9/wpfgnz550_n_k3t9tg8scnlw0000gn/T/ipykernel_80911/3980385185.py:1: SettingWithCopyWarning: \n",
      "A value is trying to be set on a copy of a slice from a DataFrame\n",
      "\n",
      "See the caveats in the documentation: https://pandas.pydata.org/pandas-docs/stable/user_guide/indexing.html#returning-a-view-versus-a-copy\n",
      "  data_urb_2018.drop(['Lat','Lon','Cuerpos_agua','Cultivo_riego','Cultivo Temporal','Past&Mat','Suelo_desnudo','Vegetacion',\n"
     ]
    }
   ],
   "source": [
    "data_urb_2018.drop(['Lat','Lon','Cuerpos_agua','Cultivo_riego','Cultivo Temporal','Past&Mat','Suelo_desnudo','Vegetacion',\n",
    "        'No_Urb','Urbano','Difer'], axis = 1,inplace=True)"
   ]
  },
  {
   "cell_type": "code",
   "execution_count": 61,
   "metadata": {},
   "outputs": [
    {
     "data": {
      "text/html": [
       "<div>\n",
       "<style scoped>\n",
       "    .dataframe tbody tr th:only-of-type {\n",
       "        vertical-align: middle;\n",
       "    }\n",
       "\n",
       "    .dataframe tbody tr th {\n",
       "        vertical-align: top;\n",
       "    }\n",
       "\n",
       "    .dataframe thead th {\n",
       "        text-align: right;\n",
       "    }\n",
       "</style>\n",
       "<table border=\"1\" class=\"dataframe\">\n",
       "  <thead>\n",
       "    <tr style=\"text-align: right;\">\n",
       "      <th></th>\n",
       "      <th>Pendiente</th>\n",
       "      <th>Dist_ANPS</th>\n",
       "      <th>Dist_agua</th>\n",
       "      <th>Dist_veget</th>\n",
       "      <th>Dist_urb</th>\n",
       "      <th>Dist_centro</th>\n",
       "      <th>Dist_carreteras</th>\n",
       "      <th>Costo</th>\n",
       "    </tr>\n",
       "  </thead>\n",
       "  <tbody>\n",
       "    <tr>\n",
       "      <th>9</th>\n",
       "      <td>6.379370</td>\n",
       "      <td>19680.839119</td>\n",
       "      <td>212.111013</td>\n",
       "      <td>1248.803589</td>\n",
       "      <td>3447.554694</td>\n",
       "      <td>19913.443890</td>\n",
       "      <td>997.266806</td>\n",
       "      <td>44.300857</td>\n",
       "    </tr>\n",
       "    <tr>\n",
       "      <th>20</th>\n",
       "      <td>4.520227</td>\n",
       "      <td>19775.810448</td>\n",
       "      <td>29.996871</td>\n",
       "      <td>1073.256704</td>\n",
       "      <td>3330.856765</td>\n",
       "      <td>19969.945500</td>\n",
       "      <td>1106.352244</td>\n",
       "      <td>45.742605</td>\n",
       "    </tr>\n",
       "    <tr>\n",
       "      <th>21</th>\n",
       "      <td>0.000000</td>\n",
       "      <td>19756.121616</td>\n",
       "      <td>59.993741</td>\n",
       "      <td>1100.167146</td>\n",
       "      <td>3345.547238</td>\n",
       "      <td>19955.995077</td>\n",
       "      <td>1083.755330</td>\n",
       "      <td>45.405656</td>\n",
       "    </tr>\n",
       "    <tr>\n",
       "      <th>22</th>\n",
       "      <td>6.379370</td>\n",
       "      <td>19736.458733</td>\n",
       "      <td>89.990612</td>\n",
       "      <td>1127.233414</td>\n",
       "      <td>3360.441263</td>\n",
       "      <td>19942.080016</td>\n",
       "      <td>1061.525113</td>\n",
       "      <td>45.146802</td>\n",
       "    </tr>\n",
       "    <tr>\n",
       "      <th>23</th>\n",
       "      <td>5.710593</td>\n",
       "      <td>19716.821879</td>\n",
       "      <td>119.987482</td>\n",
       "      <td>1154.444548</td>\n",
       "      <td>3375.536145</td>\n",
       "      <td>19928.200391</td>\n",
       "      <td>1039.685116</td>\n",
       "      <td>44.786802</td>\n",
       "    </tr>\n",
       "    <tr>\n",
       "      <th>...</th>\n",
       "      <td>...</td>\n",
       "      <td>...</td>\n",
       "      <td>...</td>\n",
       "      <td>...</td>\n",
       "      <td>...</td>\n",
       "      <td>...</td>\n",
       "      <td>...</td>\n",
       "      <td>...</td>\n",
       "    </tr>\n",
       "    <tr>\n",
       "      <th>1325651</th>\n",
       "      <td>12.604383</td>\n",
       "      <td>7326.598778</td>\n",
       "      <td>7502.007921</td>\n",
       "      <td>2430.380807</td>\n",
       "      <td>14743.328712</td>\n",
       "      <td>28276.905407</td>\n",
       "      <td>0.000000</td>\n",
       "      <td>96.129337</td>\n",
       "    </tr>\n",
       "    <tr>\n",
       "      <th>1325652</th>\n",
       "      <td>8.293805</td>\n",
       "      <td>7362.572123</td>\n",
       "      <td>7491.638443</td>\n",
       "      <td>2461.116840</td>\n",
       "      <td>14771.118181</td>\n",
       "      <td>28305.180293</td>\n",
       "      <td>59.993741</td>\n",
       "      <td>96.414020</td>\n",
       "    </tr>\n",
       "    <tr>\n",
       "      <th>1325653</th>\n",
       "      <td>15.909876</td>\n",
       "      <td>7359.454996</td>\n",
       "      <td>7508.974118</td>\n",
       "      <td>2460.568362</td>\n",
       "      <td>14772.184190</td>\n",
       "      <td>28306.022707</td>\n",
       "      <td>29.996871</td>\n",
       "      <td>96.376848</td>\n",
       "    </tr>\n",
       "    <tr>\n",
       "      <th>1325654</th>\n",
       "      <td>20.260141</td>\n",
       "      <td>7356.458865</td>\n",
       "      <td>7526.389418</td>\n",
       "      <td>2460.385508</td>\n",
       "      <td>14773.311031</td>\n",
       "      <td>28306.896883</td>\n",
       "      <td>0.000000</td>\n",
       "      <td>96.174348</td>\n",
       "    </tr>\n",
       "    <tr>\n",
       "      <th>1325655</th>\n",
       "      <td>15.909876</td>\n",
       "      <td>7389.304148</td>\n",
       "      <td>7533.452574</td>\n",
       "      <td>2490.570860</td>\n",
       "      <td>14802.168882</td>\n",
       "      <td>28336.015137</td>\n",
       "      <td>42.427519</td>\n",
       "      <td>96.460764</td>\n",
       "    </tr>\n",
       "  </tbody>\n",
       "</table>\n",
       "<p>1002887 rows × 8 columns</p>\n",
       "</div>"
      ],
      "text/plain": [
       "         Pendiente     Dist_ANPS    Dist_agua   Dist_veget      Dist_urb  \\\n",
       "9         6.379370  19680.839119   212.111013  1248.803589   3447.554694   \n",
       "20        4.520227  19775.810448    29.996871  1073.256704   3330.856765   \n",
       "21        0.000000  19756.121616    59.993741  1100.167146   3345.547238   \n",
       "22        6.379370  19736.458733    89.990612  1127.233414   3360.441263   \n",
       "23        5.710593  19716.821879   119.987482  1154.444548   3375.536145   \n",
       "...            ...           ...          ...          ...           ...   \n",
       "1325651  12.604383   7326.598778  7502.007921  2430.380807  14743.328712   \n",
       "1325652   8.293805   7362.572123  7491.638443  2461.116840  14771.118181   \n",
       "1325653  15.909876   7359.454996  7508.974118  2460.568362  14772.184190   \n",
       "1325654  20.260141   7356.458865  7526.389418  2460.385508  14773.311031   \n",
       "1325655  15.909876   7389.304148  7533.452574  2490.570860  14802.168882   \n",
       "\n",
       "          Dist_centro  Dist_carreteras      Costo  \n",
       "9        19913.443890       997.266806  44.300857  \n",
       "20       19969.945500      1106.352244  45.742605  \n",
       "21       19955.995077      1083.755330  45.405656  \n",
       "22       19942.080016      1061.525113  45.146802  \n",
       "23       19928.200391      1039.685116  44.786802  \n",
       "...               ...              ...        ...  \n",
       "1325651  28276.905407         0.000000  96.129337  \n",
       "1325652  28305.180293        59.993741  96.414020  \n",
       "1325653  28306.022707        29.996871  96.376848  \n",
       "1325654  28306.896883         0.000000  96.174348  \n",
       "1325655  28336.015137        42.427519  96.460764  \n",
       "\n",
       "[1002887 rows x 8 columns]"
      ]
     },
     "execution_count": 61,
     "metadata": {},
     "output_type": "execute_result"
    }
   ],
   "source": [
    "data_urb_2018"
   ]
  },
  {
   "cell_type": "code",
   "execution_count": null,
   "metadata": {},
   "outputs": [],
   "source": []
  },
  {
   "cell_type": "code",
   "execution_count": 62,
   "metadata": {},
   "outputs": [],
   "source": [
    "copy_2018 = data_urb_2018.copy()"
   ]
  },
  {
   "cell_type": "code",
   "execution_count": 63,
   "metadata": {},
   "outputs": [],
   "source": [
    "copy_2018 = copy_2018.sample(frac = 1)"
   ]
  },
  {
   "cell_type": "code",
   "execution_count": 64,
   "metadata": {},
   "outputs": [
    {
     "data": {
      "text/html": [
       "<div>\n",
       "<style scoped>\n",
       "    .dataframe tbody tr th:only-of-type {\n",
       "        vertical-align: middle;\n",
       "    }\n",
       "\n",
       "    .dataframe tbody tr th {\n",
       "        vertical-align: top;\n",
       "    }\n",
       "\n",
       "    .dataframe thead th {\n",
       "        text-align: right;\n",
       "    }\n",
       "</style>\n",
       "<table border=\"1\" class=\"dataframe\">\n",
       "  <thead>\n",
       "    <tr style=\"text-align: right;\">\n",
       "      <th></th>\n",
       "      <th>Pendiente</th>\n",
       "      <th>Dist_ANPS</th>\n",
       "      <th>Dist_agua</th>\n",
       "      <th>Dist_veget</th>\n",
       "      <th>Dist_urb</th>\n",
       "      <th>Dist_centro</th>\n",
       "      <th>Dist_carreteras</th>\n",
       "      <th>Costo</th>\n",
       "    </tr>\n",
       "  </thead>\n",
       "  <tbody>\n",
       "    <tr>\n",
       "      <th>881982</th>\n",
       "      <td>6.379370</td>\n",
       "      <td>6753.685971</td>\n",
       "      <td>6517.490588</td>\n",
       "      <td>94.880721</td>\n",
       "      <td>2659.752049</td>\n",
       "      <td>18356.517715</td>\n",
       "      <td>2372.632414</td>\n",
       "      <td>57.996476</td>\n",
       "    </tr>\n",
       "    <tr>\n",
       "      <th>880267</th>\n",
       "      <td>21.251493</td>\n",
       "      <td>1075.337539</td>\n",
       "      <td>2743.070756</td>\n",
       "      <td>0.000000</td>\n",
       "      <td>127.282556</td>\n",
       "      <td>9797.110278</td>\n",
       "      <td>1513.654613</td>\n",
       "      <td>35.247297</td>\n",
       "    </tr>\n",
       "    <tr>\n",
       "      <th>886803</th>\n",
       "      <td>10.219378</td>\n",
       "      <td>1279.206915</td>\n",
       "      <td>6348.672674</td>\n",
       "      <td>0.000000</td>\n",
       "      <td>1600.299988</td>\n",
       "      <td>9220.918442</td>\n",
       "      <td>1031.126285</td>\n",
       "      <td>34.572895</td>\n",
       "    </tr>\n",
       "    <tr>\n",
       "      <th>1109810</th>\n",
       "      <td>0.000000</td>\n",
       "      <td>10479.962803</td>\n",
       "      <td>7754.671381</td>\n",
       "      <td>3657.569720</td>\n",
       "      <td>900.640718</td>\n",
       "      <td>22348.872770</td>\n",
       "      <td>29.996871</td>\n",
       "      <td>23.340363</td>\n",
       "    </tr>\n",
       "    <tr>\n",
       "      <th>1055934</th>\n",
       "      <td>5.710593</td>\n",
       "      <td>8449.807457</td>\n",
       "      <td>5904.408655</td>\n",
       "      <td>2490.390210</td>\n",
       "      <td>1680.092697</td>\n",
       "      <td>20332.384299</td>\n",
       "      <td>1516.269083</td>\n",
       "      <td>40.060178</td>\n",
       "    </tr>\n",
       "    <tr>\n",
       "      <th>...</th>\n",
       "      <td>...</td>\n",
       "      <td>...</td>\n",
       "      <td>...</td>\n",
       "      <td>...</td>\n",
       "      <td>...</td>\n",
       "      <td>...</td>\n",
       "      <td>...</td>\n",
       "      <td>...</td>\n",
       "    </tr>\n",
       "    <tr>\n",
       "      <th>35281</th>\n",
       "      <td>6.379370</td>\n",
       "      <td>15423.534954</td>\n",
       "      <td>3513.480879</td>\n",
       "      <td>169.710075</td>\n",
       "      <td>2960.117136</td>\n",
       "      <td>15363.341790</td>\n",
       "      <td>2002.656431</td>\n",
       "      <td>54.932109</td>\n",
       "    </tr>\n",
       "    <tr>\n",
       "      <th>1059205</th>\n",
       "      <td>12.755872</td>\n",
       "      <td>5795.240856</td>\n",
       "      <td>2679.913978</td>\n",
       "      <td>0.000000</td>\n",
       "      <td>1631.483687</td>\n",
       "      <td>15858.506097</td>\n",
       "      <td>29.996871</td>\n",
       "      <td>21.701811</td>\n",
       "    </tr>\n",
       "    <tr>\n",
       "      <th>1239777</th>\n",
       "      <td>5.710593</td>\n",
       "      <td>400.213453</td>\n",
       "      <td>4880.349476</td>\n",
       "      <td>296.992631</td>\n",
       "      <td>6535.213426</td>\n",
       "      <td>20043.888015</td>\n",
       "      <td>149.998449</td>\n",
       "      <td>34.071479</td>\n",
       "    </tr>\n",
       "    <tr>\n",
       "      <th>289530</th>\n",
       "      <td>15.909876</td>\n",
       "      <td>9102.552235</td>\n",
       "      <td>11869.092299</td>\n",
       "      <td>0.000000</td>\n",
       "      <td>2263.721986</td>\n",
       "      <td>8024.408342</td>\n",
       "      <td>2176.813492</td>\n",
       "      <td>37.118897</td>\n",
       "    </tr>\n",
       "    <tr>\n",
       "      <th>195150</th>\n",
       "      <td>4.520227</td>\n",
       "      <td>13813.930164</td>\n",
       "      <td>5526.784743</td>\n",
       "      <td>0.000000</td>\n",
       "      <td>362.531985</td>\n",
       "      <td>16666.934481</td>\n",
       "      <td>192.104264</td>\n",
       "      <td>32.697378</td>\n",
       "    </tr>\n",
       "  </tbody>\n",
       "</table>\n",
       "<p>1002887 rows × 8 columns</p>\n",
       "</div>"
      ],
      "text/plain": [
       "         Pendiente     Dist_ANPS     Dist_agua   Dist_veget     Dist_urb  \\\n",
       "881982    6.379370   6753.685971   6517.490588    94.880721  2659.752049   \n",
       "880267   21.251493   1075.337539   2743.070756     0.000000   127.282556   \n",
       "886803   10.219378   1279.206915   6348.672674     0.000000  1600.299988   \n",
       "1109810   0.000000  10479.962803   7754.671381  3657.569720   900.640718   \n",
       "1055934   5.710593   8449.807457   5904.408655  2490.390210  1680.092697   \n",
       "...            ...           ...           ...          ...          ...   \n",
       "35281     6.379370  15423.534954   3513.480879   169.710075  2960.117136   \n",
       "1059205  12.755872   5795.240856   2679.913978     0.000000  1631.483687   \n",
       "1239777   5.710593    400.213453   4880.349476   296.992631  6535.213426   \n",
       "289530   15.909876   9102.552235  11869.092299     0.000000  2263.721986   \n",
       "195150    4.520227  13813.930164   5526.784743     0.000000   362.531985   \n",
       "\n",
       "          Dist_centro  Dist_carreteras      Costo  \n",
       "881982   18356.517715      2372.632414  57.996476  \n",
       "880267    9797.110278      1513.654613  35.247297  \n",
       "886803    9220.918442      1031.126285  34.572895  \n",
       "1109810  22348.872770        29.996871  23.340363  \n",
       "1055934  20332.384299      1516.269083  40.060178  \n",
       "...               ...              ...        ...  \n",
       "35281    15363.341790      2002.656431  54.932109  \n",
       "1059205  15858.506097        29.996871  21.701811  \n",
       "1239777  20043.888015       149.998449  34.071479  \n",
       "289530    8024.408342      2176.813492  37.118897  \n",
       "195150   16666.934481       192.104264  32.697378  \n",
       "\n",
       "[1002887 rows x 8 columns]"
      ]
     },
     "execution_count": 64,
     "metadata": {},
     "output_type": "execute_result"
    }
   ],
   "source": [
    "copy_2018"
   ]
  },
  {
   "cell_type": "markdown",
   "metadata": {},
   "source": [
    "Predicciones sobre el dataset"
   ]
  },
  {
   "cell_type": "code",
   "execution_count": 65,
   "metadata": {},
   "outputs": [],
   "source": [
    "predicciones=classifier.predict_proba(copy_2018)"
   ]
  },
  {
   "cell_type": "code",
   "execution_count": 66,
   "metadata": {},
   "outputs": [
    {
     "data": {
      "text/plain": [
       "(1002887, 2)"
      ]
     },
     "execution_count": 66,
     "metadata": {},
     "output_type": "execute_result"
    }
   ],
   "source": [
    "predicciones.shape"
   ]
  },
  {
   "cell_type": "markdown",
   "metadata": {},
   "source": [
    "Asignación de las predicciones a su respectiva observación"
   ]
  },
  {
   "cell_type": "code",
   "execution_count": 67,
   "metadata": {},
   "outputs": [
    {
     "data": {
      "text/html": [
       "<div>\n",
       "<style scoped>\n",
       "    .dataframe tbody tr th:only-of-type {\n",
       "        vertical-align: middle;\n",
       "    }\n",
       "\n",
       "    .dataframe tbody tr th {\n",
       "        vertical-align: top;\n",
       "    }\n",
       "\n",
       "    .dataframe thead th {\n",
       "        text-align: right;\n",
       "    }\n",
       "</style>\n",
       "<table border=\"1\" class=\"dataframe\">\n",
       "  <thead>\n",
       "    <tr style=\"text-align: right;\">\n",
       "      <th></th>\n",
       "      <th>Pendiente</th>\n",
       "      <th>Dist_ANPS</th>\n",
       "      <th>Dist_agua</th>\n",
       "      <th>Dist_veget</th>\n",
       "      <th>Dist_urb</th>\n",
       "      <th>Dist_centro</th>\n",
       "      <th>Dist_carreteras</th>\n",
       "      <th>Costo</th>\n",
       "      <th>Proba_0</th>\n",
       "      <th>Proba_1</th>\n",
       "    </tr>\n",
       "  </thead>\n",
       "  <tbody>\n",
       "    <tr>\n",
       "      <th>881982</th>\n",
       "      <td>6.379370</td>\n",
       "      <td>6753.685971</td>\n",
       "      <td>6517.490588</td>\n",
       "      <td>94.880721</td>\n",
       "      <td>2659.752049</td>\n",
       "      <td>18356.517715</td>\n",
       "      <td>2372.632414</td>\n",
       "      <td>57.996476</td>\n",
       "      <td>NaN</td>\n",
       "      <td>NaN</td>\n",
       "    </tr>\n",
       "    <tr>\n",
       "      <th>880267</th>\n",
       "      <td>21.251493</td>\n",
       "      <td>1075.337539</td>\n",
       "      <td>2743.070756</td>\n",
       "      <td>0.000000</td>\n",
       "      <td>127.282556</td>\n",
       "      <td>9797.110278</td>\n",
       "      <td>1513.654613</td>\n",
       "      <td>35.247297</td>\n",
       "      <td>NaN</td>\n",
       "      <td>NaN</td>\n",
       "    </tr>\n",
       "    <tr>\n",
       "      <th>886803</th>\n",
       "      <td>10.219378</td>\n",
       "      <td>1279.206915</td>\n",
       "      <td>6348.672674</td>\n",
       "      <td>0.000000</td>\n",
       "      <td>1600.299988</td>\n",
       "      <td>9220.918442</td>\n",
       "      <td>1031.126285</td>\n",
       "      <td>34.572895</td>\n",
       "      <td>NaN</td>\n",
       "      <td>NaN</td>\n",
       "    </tr>\n",
       "    <tr>\n",
       "      <th>1109810</th>\n",
       "      <td>0.000000</td>\n",
       "      <td>10479.962803</td>\n",
       "      <td>7754.671381</td>\n",
       "      <td>3657.569720</td>\n",
       "      <td>900.640718</td>\n",
       "      <td>22348.872770</td>\n",
       "      <td>29.996871</td>\n",
       "      <td>23.340363</td>\n",
       "      <td>NaN</td>\n",
       "      <td>NaN</td>\n",
       "    </tr>\n",
       "    <tr>\n",
       "      <th>1055934</th>\n",
       "      <td>5.710593</td>\n",
       "      <td>8449.807457</td>\n",
       "      <td>5904.408655</td>\n",
       "      <td>2490.390210</td>\n",
       "      <td>1680.092697</td>\n",
       "      <td>20332.384299</td>\n",
       "      <td>1516.269083</td>\n",
       "      <td>40.060178</td>\n",
       "      <td>NaN</td>\n",
       "      <td>NaN</td>\n",
       "    </tr>\n",
       "    <tr>\n",
       "      <th>...</th>\n",
       "      <td>...</td>\n",
       "      <td>...</td>\n",
       "      <td>...</td>\n",
       "      <td>...</td>\n",
       "      <td>...</td>\n",
       "      <td>...</td>\n",
       "      <td>...</td>\n",
       "      <td>...</td>\n",
       "      <td>...</td>\n",
       "      <td>...</td>\n",
       "    </tr>\n",
       "    <tr>\n",
       "      <th>35281</th>\n",
       "      <td>6.379370</td>\n",
       "      <td>15423.534954</td>\n",
       "      <td>3513.480879</td>\n",
       "      <td>169.710075</td>\n",
       "      <td>2960.117136</td>\n",
       "      <td>15363.341790</td>\n",
       "      <td>2002.656431</td>\n",
       "      <td>54.932109</td>\n",
       "      <td>NaN</td>\n",
       "      <td>NaN</td>\n",
       "    </tr>\n",
       "    <tr>\n",
       "      <th>1059205</th>\n",
       "      <td>12.755872</td>\n",
       "      <td>5795.240856</td>\n",
       "      <td>2679.913978</td>\n",
       "      <td>0.000000</td>\n",
       "      <td>1631.483687</td>\n",
       "      <td>15858.506097</td>\n",
       "      <td>29.996871</td>\n",
       "      <td>21.701811</td>\n",
       "      <td>NaN</td>\n",
       "      <td>NaN</td>\n",
       "    </tr>\n",
       "    <tr>\n",
       "      <th>1239777</th>\n",
       "      <td>5.710593</td>\n",
       "      <td>400.213453</td>\n",
       "      <td>4880.349476</td>\n",
       "      <td>296.992631</td>\n",
       "      <td>6535.213426</td>\n",
       "      <td>20043.888015</td>\n",
       "      <td>149.998449</td>\n",
       "      <td>34.071479</td>\n",
       "      <td>NaN</td>\n",
       "      <td>NaN</td>\n",
       "    </tr>\n",
       "    <tr>\n",
       "      <th>289530</th>\n",
       "      <td>15.909876</td>\n",
       "      <td>9102.552235</td>\n",
       "      <td>11869.092299</td>\n",
       "      <td>0.000000</td>\n",
       "      <td>2263.721986</td>\n",
       "      <td>8024.408342</td>\n",
       "      <td>2176.813492</td>\n",
       "      <td>37.118897</td>\n",
       "      <td>NaN</td>\n",
       "      <td>NaN</td>\n",
       "    </tr>\n",
       "    <tr>\n",
       "      <th>195150</th>\n",
       "      <td>4.520227</td>\n",
       "      <td>13813.930164</td>\n",
       "      <td>5526.784743</td>\n",
       "      <td>0.000000</td>\n",
       "      <td>362.531985</td>\n",
       "      <td>16666.934481</td>\n",
       "      <td>192.104264</td>\n",
       "      <td>32.697378</td>\n",
       "      <td>NaN</td>\n",
       "      <td>NaN</td>\n",
       "    </tr>\n",
       "  </tbody>\n",
       "</table>\n",
       "<p>1002887 rows × 10 columns</p>\n",
       "</div>"
      ],
      "text/plain": [
       "         Pendiente     Dist_ANPS     Dist_agua   Dist_veget     Dist_urb  \\\n",
       "881982    6.379370   6753.685971   6517.490588    94.880721  2659.752049   \n",
       "880267   21.251493   1075.337539   2743.070756     0.000000   127.282556   \n",
       "886803   10.219378   1279.206915   6348.672674     0.000000  1600.299988   \n",
       "1109810   0.000000  10479.962803   7754.671381  3657.569720   900.640718   \n",
       "1055934   5.710593   8449.807457   5904.408655  2490.390210  1680.092697   \n",
       "...            ...           ...           ...          ...          ...   \n",
       "35281     6.379370  15423.534954   3513.480879   169.710075  2960.117136   \n",
       "1059205  12.755872   5795.240856   2679.913978     0.000000  1631.483687   \n",
       "1239777   5.710593    400.213453   4880.349476   296.992631  6535.213426   \n",
       "289530   15.909876   9102.552235  11869.092299     0.000000  2263.721986   \n",
       "195150    4.520227  13813.930164   5526.784743     0.000000   362.531985   \n",
       "\n",
       "          Dist_centro  Dist_carreteras      Costo  Proba_0  Proba_1  \n",
       "881982   18356.517715      2372.632414  57.996476      NaN      NaN  \n",
       "880267    9797.110278      1513.654613  35.247297      NaN      NaN  \n",
       "886803    9220.918442      1031.126285  34.572895      NaN      NaN  \n",
       "1109810  22348.872770        29.996871  23.340363      NaN      NaN  \n",
       "1055934  20332.384299      1516.269083  40.060178      NaN      NaN  \n",
       "...               ...              ...        ...      ...      ...  \n",
       "35281    15363.341790      2002.656431  54.932109      NaN      NaN  \n",
       "1059205  15858.506097        29.996871  21.701811      NaN      NaN  \n",
       "1239777  20043.888015       149.998449  34.071479      NaN      NaN  \n",
       "289530    8024.408342      2176.813492  37.118897      NaN      NaN  \n",
       "195150   16666.934481       192.104264  32.697378      NaN      NaN  \n",
       "\n",
       "[1002887 rows x 10 columns]"
      ]
     },
     "execution_count": 67,
     "metadata": {},
     "output_type": "execute_result"
    }
   ],
   "source": [
    "copy_2018 = copy_2018.reindex(columns = copy_2018.columns.tolist() + [\"Proba_0\", \"Proba_1\"])\n",
    "\n",
    "copy_2018"
   ]
  },
  {
   "cell_type": "code",
   "execution_count": 68,
   "metadata": {},
   "outputs": [
    {
     "data": {
      "text/html": [
       "<div>\n",
       "<style scoped>\n",
       "    .dataframe tbody tr th:only-of-type {\n",
       "        vertical-align: middle;\n",
       "    }\n",
       "\n",
       "    .dataframe tbody tr th {\n",
       "        vertical-align: top;\n",
       "    }\n",
       "\n",
       "    .dataframe thead th {\n",
       "        text-align: right;\n",
       "    }\n",
       "</style>\n",
       "<table border=\"1\" class=\"dataframe\">\n",
       "  <thead>\n",
       "    <tr style=\"text-align: right;\">\n",
       "      <th></th>\n",
       "      <th>Pendiente</th>\n",
       "      <th>Dist_ANPS</th>\n",
       "      <th>Dist_agua</th>\n",
       "      <th>Dist_veget</th>\n",
       "      <th>Dist_urb</th>\n",
       "      <th>Dist_centro</th>\n",
       "      <th>Dist_carreteras</th>\n",
       "      <th>Costo</th>\n",
       "      <th>Proba_0</th>\n",
       "      <th>Proba_1</th>\n",
       "    </tr>\n",
       "  </thead>\n",
       "  <tbody>\n",
       "    <tr>\n",
       "      <th>881982</th>\n",
       "      <td>6.379370</td>\n",
       "      <td>6753.685971</td>\n",
       "      <td>6517.490588</td>\n",
       "      <td>94.880721</td>\n",
       "      <td>2659.752049</td>\n",
       "      <td>18356.517715</td>\n",
       "      <td>2372.632414</td>\n",
       "      <td>57.996476</td>\n",
       "      <td>NaN</td>\n",
       "      <td>NaN</td>\n",
       "    </tr>\n",
       "    <tr>\n",
       "      <th>880267</th>\n",
       "      <td>21.251493</td>\n",
       "      <td>1075.337539</td>\n",
       "      <td>2743.070756</td>\n",
       "      <td>0.000000</td>\n",
       "      <td>127.282556</td>\n",
       "      <td>9797.110278</td>\n",
       "      <td>1513.654613</td>\n",
       "      <td>35.247297</td>\n",
       "      <td>NaN</td>\n",
       "      <td>NaN</td>\n",
       "    </tr>\n",
       "    <tr>\n",
       "      <th>886803</th>\n",
       "      <td>10.219378</td>\n",
       "      <td>1279.206915</td>\n",
       "      <td>6348.672674</td>\n",
       "      <td>0.000000</td>\n",
       "      <td>1600.299988</td>\n",
       "      <td>9220.918442</td>\n",
       "      <td>1031.126285</td>\n",
       "      <td>34.572895</td>\n",
       "      <td>NaN</td>\n",
       "      <td>NaN</td>\n",
       "    </tr>\n",
       "    <tr>\n",
       "      <th>1109810</th>\n",
       "      <td>0.000000</td>\n",
       "      <td>10479.962803</td>\n",
       "      <td>7754.671381</td>\n",
       "      <td>3657.569720</td>\n",
       "      <td>900.640718</td>\n",
       "      <td>22348.872770</td>\n",
       "      <td>29.996871</td>\n",
       "      <td>23.340363</td>\n",
       "      <td>NaN</td>\n",
       "      <td>NaN</td>\n",
       "    </tr>\n",
       "    <tr>\n",
       "      <th>1055934</th>\n",
       "      <td>5.710593</td>\n",
       "      <td>8449.807457</td>\n",
       "      <td>5904.408655</td>\n",
       "      <td>2490.390210</td>\n",
       "      <td>1680.092697</td>\n",
       "      <td>20332.384299</td>\n",
       "      <td>1516.269083</td>\n",
       "      <td>40.060178</td>\n",
       "      <td>NaN</td>\n",
       "      <td>NaN</td>\n",
       "    </tr>\n",
       "    <tr>\n",
       "      <th>...</th>\n",
       "      <td>...</td>\n",
       "      <td>...</td>\n",
       "      <td>...</td>\n",
       "      <td>...</td>\n",
       "      <td>...</td>\n",
       "      <td>...</td>\n",
       "      <td>...</td>\n",
       "      <td>...</td>\n",
       "      <td>...</td>\n",
       "      <td>...</td>\n",
       "    </tr>\n",
       "    <tr>\n",
       "      <th>35281</th>\n",
       "      <td>6.379370</td>\n",
       "      <td>15423.534954</td>\n",
       "      <td>3513.480879</td>\n",
       "      <td>169.710075</td>\n",
       "      <td>2960.117136</td>\n",
       "      <td>15363.341790</td>\n",
       "      <td>2002.656431</td>\n",
       "      <td>54.932109</td>\n",
       "      <td>NaN</td>\n",
       "      <td>NaN</td>\n",
       "    </tr>\n",
       "    <tr>\n",
       "      <th>1059205</th>\n",
       "      <td>12.755872</td>\n",
       "      <td>5795.240856</td>\n",
       "      <td>2679.913978</td>\n",
       "      <td>0.000000</td>\n",
       "      <td>1631.483687</td>\n",
       "      <td>15858.506097</td>\n",
       "      <td>29.996871</td>\n",
       "      <td>21.701811</td>\n",
       "      <td>NaN</td>\n",
       "      <td>NaN</td>\n",
       "    </tr>\n",
       "    <tr>\n",
       "      <th>1239777</th>\n",
       "      <td>5.710593</td>\n",
       "      <td>400.213453</td>\n",
       "      <td>4880.349476</td>\n",
       "      <td>296.992631</td>\n",
       "      <td>6535.213426</td>\n",
       "      <td>20043.888015</td>\n",
       "      <td>149.998449</td>\n",
       "      <td>34.071479</td>\n",
       "      <td>NaN</td>\n",
       "      <td>NaN</td>\n",
       "    </tr>\n",
       "    <tr>\n",
       "      <th>289530</th>\n",
       "      <td>15.909876</td>\n",
       "      <td>9102.552235</td>\n",
       "      <td>11869.092299</td>\n",
       "      <td>0.000000</td>\n",
       "      <td>2263.721986</td>\n",
       "      <td>8024.408342</td>\n",
       "      <td>2176.813492</td>\n",
       "      <td>37.118897</td>\n",
       "      <td>NaN</td>\n",
       "      <td>NaN</td>\n",
       "    </tr>\n",
       "    <tr>\n",
       "      <th>195150</th>\n",
       "      <td>4.520227</td>\n",
       "      <td>13813.930164</td>\n",
       "      <td>5526.784743</td>\n",
       "      <td>0.000000</td>\n",
       "      <td>362.531985</td>\n",
       "      <td>16666.934481</td>\n",
       "      <td>192.104264</td>\n",
       "      <td>32.697378</td>\n",
       "      <td>NaN</td>\n",
       "      <td>NaN</td>\n",
       "    </tr>\n",
       "  </tbody>\n",
       "</table>\n",
       "<p>1002887 rows × 10 columns</p>\n",
       "</div>"
      ],
      "text/plain": [
       "         Pendiente     Dist_ANPS     Dist_agua   Dist_veget     Dist_urb  \\\n",
       "881982    6.379370   6753.685971   6517.490588    94.880721  2659.752049   \n",
       "880267   21.251493   1075.337539   2743.070756     0.000000   127.282556   \n",
       "886803   10.219378   1279.206915   6348.672674     0.000000  1600.299988   \n",
       "1109810   0.000000  10479.962803   7754.671381  3657.569720   900.640718   \n",
       "1055934   5.710593   8449.807457   5904.408655  2490.390210  1680.092697   \n",
       "...            ...           ...           ...          ...          ...   \n",
       "35281     6.379370  15423.534954   3513.480879   169.710075  2960.117136   \n",
       "1059205  12.755872   5795.240856   2679.913978     0.000000  1631.483687   \n",
       "1239777   5.710593    400.213453   4880.349476   296.992631  6535.213426   \n",
       "289530   15.909876   9102.552235  11869.092299     0.000000  2263.721986   \n",
       "195150    4.520227  13813.930164   5526.784743     0.000000   362.531985   \n",
       "\n",
       "          Dist_centro  Dist_carreteras      Costo  Proba_0  Proba_1  \n",
       "881982   18356.517715      2372.632414  57.996476      NaN      NaN  \n",
       "880267    9797.110278      1513.654613  35.247297      NaN      NaN  \n",
       "886803    9220.918442      1031.126285  34.572895      NaN      NaN  \n",
       "1109810  22348.872770        29.996871  23.340363      NaN      NaN  \n",
       "1055934  20332.384299      1516.269083  40.060178      NaN      NaN  \n",
       "...               ...              ...        ...      ...      ...  \n",
       "35281    15363.341790      2002.656431  54.932109      NaN      NaN  \n",
       "1059205  15858.506097        29.996871  21.701811      NaN      NaN  \n",
       "1239777  20043.888015       149.998449  34.071479      NaN      NaN  \n",
       "289530    8024.408342      2176.813492  37.118897      NaN      NaN  \n",
       "195150   16666.934481       192.104264  32.697378      NaN      NaN  \n",
       "\n",
       "[1002887 rows x 10 columns]"
      ]
     },
     "execution_count": 68,
     "metadata": {},
     "output_type": "execute_result"
    }
   ],
   "source": [
    "copy_2018"
   ]
  },
  {
   "cell_type": "code",
   "execution_count": null,
   "metadata": {},
   "outputs": [],
   "source": [
    "for i in range(1002887):\n",
    "    copy_2018.at[copy_2018.index[i],'Proba_0']=predicciones[i,0]"
   ]
  },
  {
   "cell_type": "code",
   "execution_count": null,
   "metadata": {},
   "outputs": [],
   "source": [
    "copy_2018"
   ]
  },
  {
   "cell_type": "code",
   "execution_count": null,
   "metadata": {},
   "outputs": [],
   "source": [
    "for i in range(1002887):\n",
    "    copy_2018.at[copy_2018.index[i],'Proba_1']=predicciones[i,1]"
   ]
  },
  {
   "cell_type": "code",
   "execution_count": null,
   "metadata": {},
   "outputs": [],
   "source": [
    "copy_2018"
   ]
  },
  {
   "cell_type": "markdown",
   "metadata": {},
   "source": [
    "Asignación de sus respetvivas coordenadas"
   ]
  },
  {
   "cell_type": "code",
   "execution_count": null,
   "metadata": {},
   "outputs": [],
   "source": [
    "copy_2018 = copy_2018.reindex(columns = copy_2018.columns.tolist() + [\"Lat\", \"Lon\"])\n",
    "\n",
    "copy_2018"
   ]
  },
  {
   "cell_type": "code",
   "execution_count": null,
   "metadata": {},
   "outputs": [],
   "source": [
    "data2018"
   ]
  },
  {
   "cell_type": "code",
   "execution_count": null,
   "metadata": {},
   "outputs": [],
   "source": []
  },
  {
   "cell_type": "code",
   "execution_count": null,
   "metadata": {},
   "outputs": [],
   "source": [
    "for i in range(1002887):\n",
    "    copy_2018.at[copy_2018.index[i],'Lat']=data2018.iloc[copy_2018.index[i],0]\n",
    "    copy_2018.at[copy_2018.index[i],'Lon']=data2018.iloc[copy_2018.index[i],1]"
   ]
  },
  {
   "cell_type": "code",
   "execution_count": null,
   "metadata": {},
   "outputs": [],
   "source": [
    "copy_2018"
   ]
  },
  {
   "cell_type": "markdown",
   "metadata": {},
   "source": [
    "Creación del dataset geoespacial"
   ]
  },
  {
   "cell_type": "code",
   "execution_count": null,
   "metadata": {},
   "outputs": [],
   "source": [
    "geometry=[Point(xy) for xy in zip(copy_2018[\"Lat\"], copy_2018[\"Lon\"])]"
   ]
  },
  {
   "cell_type": "markdown",
   "metadata": {},
   "source": [
    "Sistema de coordenadas"
   ]
  },
  {
   "cell_type": "code",
   "execution_count": null,
   "metadata": {},
   "outputs": [],
   "source": [
    "crs_m={'init':'epsg:32614'}"
   ]
  },
  {
   "cell_type": "code",
   "execution_count": null,
   "metadata": {},
   "outputs": [],
   "source": [
    "geodata=gpd.GeoDataFrame(copy_2018,crs=crs_m, geometry=geometry)"
   ]
  },
  {
   "cell_type": "code",
   "execution_count": null,
   "metadata": {},
   "outputs": [],
   "source": [
    "geodata"
   ]
  },
  {
   "cell_type": "code",
   "execution_count": null,
   "metadata": {},
   "outputs": [],
   "source": []
  },
  {
   "cell_type": "markdown",
   "metadata": {},
   "source": [
    "Visualización de predicciones"
   ]
  },
  {
   "cell_type": "code",
   "execution_count": null,
   "metadata": {},
   "outputs": [],
   "source": [
    "geodata.plot(figsize=(20, 15),column=geodata['Proba_1'], cmap=\"viridis_r\",legend=True)\n",
    "plt.grid()"
   ]
  },
  {
   "cell_type": "markdown",
   "metadata": {},
   "source": [
    "Creación de un mapa binario a partir de un umbral, obtenido del número de seldas urbanas en el mapa real del 2018"
   ]
  },
  {
   "cell_type": "code",
   "execution_count": null,
   "metadata": {},
   "outputs": [],
   "source": [
    "acomodados=geodata.sort_values(by='Proba_1',ascending=False)"
   ]
  },
  {
   "cell_type": "code",
   "execution_count": null,
   "metadata": {},
   "outputs": [],
   "source": [
    "acomodados"
   ]
  },
  {
   "cell_type": "code",
   "execution_count": null,
   "metadata": {},
   "outputs": [],
   "source": [
    "acomodados = acomodados.reindex(columns = acomodados.columns.tolist() + [\"Categoria\"])\n",
    "\n",
    "acomodados"
   ]
  },
  {
   "cell_type": "code",
   "execution_count": null,
   "metadata": {},
   "outputs": [],
   "source": [
    "'''for i in range(81011):\n",
    "    copy_2018.at[copy_2018.index[i],'Lat']=data2018.iloc[copy_2018.index[i],0]\n",
    "    copy_2018.at[copy_2018.index[i],'Lon']=data2018.iloc[copy_2018.index[i],1]'''"
   ]
  },
  {
   "cell_type": "code",
   "execution_count": null,
   "metadata": {},
   "outputs": [],
   "source": [
    "for i in range(81011):\n",
    "    acomodados.at[acomodados.index[i],'Categoria']=1"
   ]
  },
  {
   "cell_type": "code",
   "execution_count": null,
   "metadata": {},
   "outputs": [],
   "source": [
    "acomodados"
   ]
  },
  {
   "cell_type": "code",
   "execution_count": null,
   "metadata": {},
   "outputs": [],
   "source": [
    "acomodados['Categoria'] =  acomodados['Categoria'].fillna(0)"
   ]
  },
  {
   "cell_type": "code",
   "execution_count": null,
   "metadata": {},
   "outputs": [],
   "source": [
    "acomodados"
   ]
  },
  {
   "cell_type": "code",
   "execution_count": null,
   "metadata": {},
   "outputs": [],
   "source": [
    "acomodados.plot(figsize=(20, 15),column=acomodados['Categoria'], cmap=\"viridis\",legend=True)\n",
    "plt.grid()"
   ]
  },
  {
   "cell_type": "code",
   "execution_count": null,
   "metadata": {},
   "outputs": [],
   "source": [
    "acomodados.iloc[81010,:]"
   ]
  },
  {
   "cell_type": "code",
   "execution_count": null,
   "metadata": {},
   "outputs": [],
   "source": []
  },
  {
   "cell_type": "code",
   "execution_count": null,
   "metadata": {},
   "outputs": [],
   "source": []
  },
  {
   "cell_type": "code",
   "execution_count": null,
   "metadata": {},
   "outputs": [],
   "source": []
  },
  {
   "cell_type": "code",
   "execution_count": null,
   "metadata": {},
   "outputs": [],
   "source": [
    "data_urb_2018"
   ]
  },
  {
   "cell_type": "code",
   "execution_count": null,
   "metadata": {},
   "outputs": [],
   "source": [
    "data_urb"
   ]
  },
  {
   "cell_type": "code",
   "execution_count": null,
   "metadata": {},
   "outputs": [],
   "source": [
    "geodata = geodata.reindex(columns = geodata.columns.tolist() + [\"Label\"])\n",
    "\n",
    "geodata"
   ]
  },
  {
   "cell_type": "code",
   "execution_count": null,
   "metadata": {},
   "outputs": [],
   "source": [
    "geodata.index[0]"
   ]
  },
  {
   "cell_type": "code",
   "execution_count": null,
   "metadata": {},
   "outputs": [],
   "source": [
    "data_urb.loc[geodata.index[0],['Difer']]"
   ]
  },
  {
   "cell_type": "code",
   "execution_count": null,
   "metadata": {},
   "outputs": [],
   "source": [
    "data"
   ]
  },
  {
   "cell_type": "code",
   "execution_count": null,
   "metadata": {},
   "outputs": [],
   "source": [
    "cont=0\n",
    "for i in range(1002887):\n",
    "    try:\n",
    "        geodata.at[geodata.index[i],'Label']=data.loc[geodata.index[i],['Difer']]\n",
    "    except Exception as e:\n",
    "        print(\"Still Working...\",e)"
   ]
  },
  {
   "cell_type": "code",
   "execution_count": null,
   "metadata": {},
   "outputs": [],
   "source": [
    "geodata['Label'].value_counts()"
   ]
  },
  {
   "cell_type": "code",
   "execution_count": null,
   "metadata": {},
   "outputs": [],
   "source": [
    "geodata['Label'].isna().sum()"
   ]
  },
  {
   "cell_type": "code",
   "execution_count": null,
   "metadata": {},
   "outputs": [],
   "source": [
    "geodata['Label'] = geodata['Label'].fillna(0)"
   ]
  },
  {
   "cell_type": "code",
   "execution_count": null,
   "metadata": {},
   "outputs": [],
   "source": [
    "geodata['Label'].isna().sum()"
   ]
  },
  {
   "cell_type": "code",
   "execution_count": null,
   "metadata": {},
   "outputs": [],
   "source": [
    "geodata"
   ]
  },
  {
   "cell_type": "code",
   "execution_count": null,
   "metadata": {},
   "outputs": [],
   "source": [
    "fpr, tpr, _ = metrics.roc_curve(geodata['Label'],  geodata['Proba_1'])"
   ]
  },
  {
   "cell_type": "code",
   "execution_count": null,
   "metadata": {},
   "outputs": [],
   "source": []
  },
  {
   "cell_type": "code",
   "execution_count": null,
   "metadata": {},
   "outputs": [],
   "source": [
    "yhat = np.array(geodata['Proba_1'])\n",
    "y = np.array(geodata['Label'])\n",
    "thlinear = getth(yhat,y)"
   ]
  },
  {
   "cell_type": "code",
   "execution_count": null,
   "metadata": {},
   "outputs": [],
   "source": [
    "thinear"
   ]
  },
  {
   "cell_type": "code",
   "execution_count": null,
   "metadata": {},
   "outputs": [],
   "source": [
    "plt.plot(fpr,tpr)\n",
    "#plt.plot([0.398477, 0.398477], [0, 1], '-')\n",
    "plt.axvline(0.398477, ymin=0, ymax=1, color='g')\n",
    "plt.ylabel('True Positive Rate')\n",
    "plt.xlabel('False Positive Rate')\n",
    "plt.grid()\n",
    "plt.show()"
   ]
  },
  {
   "cell_type": "code",
   "execution_count": null,
   "metadata": {},
   "outputs": [],
   "source": [
    "metrics.auc(fpr, tpr)"
   ]
  },
  {
   "cell_type": "code",
   "execution_count": null,
   "metadata": {},
   "outputs": [],
   "source": [
    "%store -r fprlog"
   ]
  },
  {
   "cell_type": "code",
   "execution_count": null,
   "metadata": {},
   "outputs": [],
   "source": [
    "%store -r tprlog"
   ]
  },
  {
   "cell_type": "code",
   "execution_count": null,
   "metadata": {},
   "outputs": [],
   "source": [
    "plt.plot(fpr,tpr)\n",
    "plt.plot(fprlog,tprlog)\n",
    "#plt.plot([0.398477, 0.398477], [0, 1], '-')\n",
    "plt.axvline(0.398477, ymin=0, ymax=1, color='g')\n",
    "plt.axvline(0.282801, ymin=0, ymax=1, color='r')\n",
    "plt.ylabel('True Positive Rate')\n",
    "plt.xlabel('False Positive Rate')\n",
    "plt.legend([\"MLP\", \"Logistic\",\"thres MLP\",\"thres Log\"], loc =\"lower right\")\n",
    "plt.grid()\n",
    "plt.show()"
   ]
  },
  {
   "cell_type": "code",
   "execution_count": null,
   "metadata": {},
   "outputs": [],
   "source": []
  },
  {
   "cell_type": "code",
   "execution_count": null,
   "metadata": {},
   "outputs": [],
   "source": []
  },
  {
   "cell_type": "markdown",
   "metadata": {},
   "source": [
    "Accuracy"
   ]
  },
  {
   "cell_type": "code",
   "execution_count": null,
   "metadata": {},
   "outputs": [],
   "source": [
    "data2=data.sample(frac = 1)"
   ]
  },
  {
   "cell_type": "code",
   "execution_count": null,
   "metadata": {},
   "outputs": [],
   "source": [
    "data2=data2.iloc[:1002887,-1]"
   ]
  },
  {
   "cell_type": "code",
   "execution_count": null,
   "metadata": {},
   "outputs": [],
   "source": [
    "data2"
   ]
  },
  {
   "cell_type": "code",
   "execution_count": null,
   "metadata": {},
   "outputs": [],
   "source": [
    "acomodados_labels=acomodados.iloc[:,-1]"
   ]
  },
  {
   "cell_type": "code",
   "execution_count": null,
   "metadata": {},
   "outputs": [],
   "source": [
    "acomodados_labels"
   ]
  },
  {
   "cell_type": "code",
   "execution_count": null,
   "metadata": {},
   "outputs": [],
   "source": [
    "accuracy_score(data2, acomodados_labels)"
   ]
  },
  {
   "cell_type": "code",
   "execution_count": null,
   "metadata": {},
   "outputs": [],
   "source": [
    "acomodados = acomodados.reindex(columns = acomodados.columns.tolist() + [\"Target\"])\n",
    "\n",
    "acomodados"
   ]
  },
  {
   "cell_type": "code",
   "execution_count": null,
   "metadata": {},
   "outputs": [],
   "source": [
    "for i in range(1002887):\n",
    "    if acomodados.index[i] >=1325636:\n",
    "        acomodados.at[acomodados.index[i],'Target']=0\n",
    "    else:\n",
    "        acomodados.at[acomodados.index[i],'Target']=data.iloc[acomodados.index[i],-1]"
   ]
  },
  {
   "cell_type": "code",
   "execution_count": null,
   "metadata": {},
   "outputs": [],
   "source": [
    "acomodados"
   ]
  },
  {
   "cell_type": "code",
   "execution_count": null,
   "metadata": {},
   "outputs": [],
   "source": [
    "accuracy_score(acomodados[\"Target\"], acomodados[\"Categoria\"])"
   ]
  },
  {
   "cell_type": "code",
   "execution_count": null,
   "metadata": {},
   "outputs": [],
   "source": []
  },
  {
   "cell_type": "code",
   "execution_count": null,
   "metadata": {},
   "outputs": [],
   "source": []
  },
  {
   "cell_type": "code",
   "execution_count": null,
   "metadata": {},
   "outputs": [],
   "source": []
  },
  {
   "cell_type": "code",
   "execution_count": null,
   "metadata": {},
   "outputs": [],
   "source": []
  },
  {
   "cell_type": "code",
   "execution_count": null,
   "metadata": {},
   "outputs": [],
   "source": []
  },
  {
   "cell_type": "code",
   "execution_count": null,
   "metadata": {},
   "outputs": [],
   "source": []
  },
  {
   "cell_type": "code",
   "execution_count": null,
   "metadata": {},
   "outputs": [],
   "source": []
  }
 ],
 "metadata": {
  "kernelspec": {
   "display_name": "Python 3 (ipykernel)",
   "language": "python",
   "name": "python3"
  },
  "language_info": {
   "codemirror_mode": {
    "name": "ipython",
    "version": 3
   },
   "file_extension": ".py",
   "mimetype": "text/x-python",
   "name": "python",
   "nbconvert_exporter": "python",
   "pygments_lexer": "ipython3",
   "version": "3.8.13"
  }
 },
 "nbformat": 4,
 "nbformat_minor": 4
}
